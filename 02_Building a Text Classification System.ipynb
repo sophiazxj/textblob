{
 "cells": [
  {
   "cell_type": "markdown",
   "metadata": {},
   "source": [
    "The __textblob.classifiers__ module makes it simple to create custom classifiers.\n",
    "As an example, Let's create a custom sentiment analyzer.\n",
    "\n",
    "### Loading Data and Creating a Classifier\n",
    "First we'll create some training and test data."
   ]
  },
  {
   "cell_type": "code",
   "execution_count": 1,
   "metadata": {
    "collapsed": true
   },
   "outputs": [],
   "source": [
    "train = [('I love this sandwich.', 'pos'),\n",
    " ('this is an amazing place!', 'pos'),\n",
    " ('I feel very good about these beers.', 'pos'),\n",
    " ('this is my best work.', 'pos'),\n",
    " ('what an awesome view', 'pos'),\n",
    " ('I do not like this restaurant', 'neg'),\n",
    " ('I am tired of this stuff.', 'neg'),\n",
    " (\"I can't deal with this\", 'neg'),\n",
    " ('he is my sworn enemy!', 'neg'),\n",
    " ('my boss is horrible.', 'neg')]"
   ]
  },
  {
   "cell_type": "code",
   "execution_count": 5,
   "metadata": {},
   "outputs": [],
   "source": [
    "test = [('the beer was good.', 'pos'),\n",
    " ('I do not enjoy my job', 'neg'),\n",
    " (\"I ain't feeling dandy today.\", 'neg'),\n",
    " ('I feel amazing!', 'pos'),\n",
    " ('Gary is a friend of mine.', 'pos'),\n",
    " (\"I can't believe I'm doing this.\", 'neg')]"
   ]
  },
  {
   "cell_type": "markdown",
   "metadata": {},
   "source": [
    "Create a __Naive Bayes classifier__, passing the training data into the constructor."
   ]
  },
  {
   "cell_type": "code",
   "execution_count": 6,
   "metadata": {
    "collapsed": true
   },
   "outputs": [],
   "source": [
    "from textblob.classifiers import NaiveBayesClassifier"
   ]
  },
  {
   "cell_type": "code",
   "execution_count": 8,
   "metadata": {},
   "outputs": [
    {
     "data": {
      "text/plain": [
       "<NaiveBayesClassifier trained on 10 instances>"
      ]
     },
     "execution_count": 8,
     "metadata": {},
     "output_type": "execute_result"
    }
   ],
   "source": [
    "cl = NaiveBayesClassifier(train)"
   ]
  },
  {
   "cell_type": "markdown",
   "metadata": {},
   "source": [
    "### Loading data from files\n",
    "You can also load data from common file formats including CSV, JSON, and TSV.\n",
    "\n",
    "CSV files should be formatted like so:\n",
    "```csv\n",
    "I love this sandwich.,pos\n",
    "This is an amazing place!,pos\n",
    "I do not like this restaurant,neg\n",
    "```"
   ]
  },
  {
   "cell_type": "code",
   "execution_count": null,
   "metadata": {
    "collapsed": true
   },
   "outputs": [],
   "source": []
  }
 ],
 "metadata": {
  "kernelspec": {
   "display_name": "Python 3",
   "language": "python",
   "name": "python3"
  },
  "language_info": {
   "codemirror_mode": {
    "name": "ipython",
    "version": 3
   },
   "file_extension": ".py",
   "mimetype": "text/x-python",
   "name": "python",
   "nbconvert_exporter": "python",
   "pygments_lexer": "ipython3",
   "version": "3.6.3"
  }
 },
 "nbformat": 4,
 "nbformat_minor": 2
}
