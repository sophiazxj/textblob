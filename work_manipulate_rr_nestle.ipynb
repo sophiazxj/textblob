{
 "cells": [
  {
   "cell_type": "code",
   "execution_count": 78,
   "metadata": {
    "collapsed": true
   },
   "outputs": [],
   "source": [
    "import requests\n",
    "from bs4 import BeautifulSoup\n",
    "import pandas as pd\n",
    "import json"
   ]
  },
  {
   "cell_type": "code",
   "execution_count": 79,
   "metadata": {
    "collapsed": true
   },
   "outputs": [],
   "source": [
    "url = 'https://aldcdn.tmall.com/recommend.htm?itemId=549177691667&categoryId=50000852&sellerId=1984394327&shopId=108656262&brandId=242970774&refer=&brandSiteId=0&rn=&appId=03054&isVitual3C=false&isMiao=false&count=12&callback=jsonpAld03054'"
   ]
  },
  {
   "cell_type": "code",
   "execution_count": 132,
   "metadata": {},
   "outputs": [
    {
     "data": {
      "text/plain": [
       "'gbk'"
      ]
     },
     "execution_count": 132,
     "metadata": {},
     "output_type": "execute_result"
    }
   ],
   "source": [
    "content = requests.get(url).text\n",
    "soup = bs(content, \"html.parser\")\n",
    "soup.meta['charset']"
   ]
  },
  {
   "cell_type": "code",
   "execution_count": 81,
   "metadata": {
    "collapsed": true
   },
   "outputs": [],
   "source": [
    "\n",
    "from bs4 import BeautifulSoup as bs\n",
    "import re\n",
    "import requests"
   ]
  },
  {
   "cell_type": "code",
   "execution_count": 82,
   "metadata": {
    "collapsed": true
   },
   "outputs": [],
   "source": [
    "url = \"https://detail.tmall.com/item.htm?spm=a230r.1.14.1.ebb2eb2eGyUw1&id=549177691667&ns=1&abbucket=4\""
   ]
  },
  {
   "cell_type": "code",
   "execution_count": 92,
   "metadata": {},
   "outputs": [
    {
     "name": "stdout",
     "output_type": "stream",
     "text": [
      "None\n",
      "webkit\n",
      "IE=Edge\n",
      "夏季中老年人女装棉麻短袖两件套装宽松大码妈妈装印花夏装上衣\n",
      "欢迎前来淘宝网实力旺铺，选购夏季中老年人女装棉麻短袖两件套装宽松大码妈妈装印花夏装上衣,想了解详情夏季中老年人女装棉麻短袖两件套装宽松大码妈妈装印花夏装上衣，请进入骆华浓旗舰店的骆华浓旗舰店实力旺铺，更多商品任你选购\n",
      "a220o\n",
      "always\n",
      "pageId=598391566;prototypeId=2;siteId=2; shopId=108656262; userid=1984394327;\n"
     ]
    }
   ],
   "source": [
    "html = requests.get(url).text\n",
    "soup = bs(html, 'html.parser')\n",
    "\n",
    "for m in soup.find_all('meta'):\n",
    "    print(m.get('content'))"
   ]
  },
  {
   "cell_type": "markdown",
   "metadata": {},
   "source": [
    "### Study BeautifulSoup"
   ]
  },
  {
   "cell_type": "code",
   "execution_count": 103,
   "metadata": {
    "collapsed": true
   },
   "outputs": [],
   "source": [
    "html_doc = \"\"\"\n",
    "<html><head><title>The Dormouse's story</title></head>\n",
    "<body>\n",
    "<p class=\"title\"><b>The Dormouse's story</b></p>\n",
    "\n",
    "<p class=\"story\">Once upon a time there were three little sisters; and their names were\n",
    "<a href=\"http://example.com/elsie\" class=\"sister\" id=\"link1\">Elsie</a>,\n",
    "<a href=\"http://example.com/lacie\" class=\"sister\" id=\"link2\">Lacie</a> and\n",
    "<a href=\"http://example.com/tillie\" class=\"sister\" id=\"link3\">Tillie</a>;\n",
    "and they lived at the bottom of a well.</p>\n",
    "\n",
    "<p class=\"story\">...</p>\n",
    "\"\"\""
   ]
  },
  {
   "cell_type": "code",
   "execution_count": 105,
   "metadata": {},
   "outputs": [
    {
     "name": "stdout",
     "output_type": "stream",
     "text": [
      "<html>\n",
      " <head>\n",
      "  <title>\n",
      "   The Dormouse's story\n",
      "  </title>\n",
      " </head>\n",
      " <body>\n",
      "  <p class=\"title\">\n",
      "   <b>\n",
      "    The Dormouse's story\n",
      "   </b>\n",
      "  </p>\n",
      "  <p class=\"story\">\n",
      "   Once upon a time there were three little sisters; and their names were\n",
      "   <a class=\"sister\" href=\"http://example.com/elsie\" id=\"link1\">\n",
      "    Elsie\n",
      "   </a>\n",
      "   ,\n",
      "   <a class=\"sister\" href=\"http://example.com/lacie\" id=\"link2\">\n",
      "    Lacie\n",
      "   </a>\n",
      "   and\n",
      "   <a class=\"sister\" href=\"http://example.com/tillie\" id=\"link3\">\n",
      "    Tillie\n",
      "   </a>\n",
      "   ;\n",
      "and they lived at the bottom of a well.\n",
      "  </p>\n",
      "  <p class=\"story\">\n",
      "   ...\n",
      "  </p>\n",
      " </body>\n",
      "</html>\n"
     ]
    }
   ],
   "source": [
    "from bs4 import BeautifulSoup\n",
    "soup = BeautifulSoup(html_doc,\"lxml\")\n",
    "print(soup.prettify())"
   ]
  },
  {
   "cell_type": "code",
   "execution_count": 107,
   "metadata": {},
   "outputs": [
    {
     "data": {
      "text/plain": [
       "<title>The Dormouse's story</title>"
      ]
     },
     "execution_count": 107,
     "metadata": {},
     "output_type": "execute_result"
    }
   ],
   "source": [
    "soup.title"
   ]
  },
  {
   "cell_type": "code",
   "execution_count": 109,
   "metadata": {},
   "outputs": [
    {
     "data": {
      "text/plain": [
       "'title'"
      ]
     },
     "execution_count": 109,
     "metadata": {},
     "output_type": "execute_result"
    }
   ],
   "source": [
    "soup.title.name"
   ]
  },
  {
   "cell_type": "code",
   "execution_count": 110,
   "metadata": {},
   "outputs": [
    {
     "data": {
      "text/plain": [
       "\"The Dormouse's story\""
      ]
     },
     "execution_count": 110,
     "metadata": {},
     "output_type": "execute_result"
    }
   ],
   "source": [
    "soup.title.string"
   ]
  },
  {
   "cell_type": "code",
   "execution_count": 112,
   "metadata": {},
   "outputs": [
    {
     "data": {
      "text/plain": [
       "'head'"
      ]
     },
     "execution_count": 112,
     "metadata": {},
     "output_type": "execute_result"
    }
   ],
   "source": [
    "soup.title.parent.name"
   ]
  },
  {
   "cell_type": "code",
   "execution_count": 118,
   "metadata": {},
   "outputs": [
    {
     "data": {
      "text/plain": [
       "<a class=\"sister\" href=\"http://example.com/tillie\" id=\"link3\">Tillie</a>"
      ]
     },
     "execution_count": 118,
     "metadata": {},
     "output_type": "execute_result"
    }
   ],
   "source": [
    "soup.find(id = 'link3')"
   ]
  },
  {
   "cell_type": "code",
   "execution_count": 122,
   "metadata": {},
   "outputs": [
    {
     "name": "stdout",
     "output_type": "stream",
     "text": [
      "http://example.com/elsie\n",
      "http://example.com/lacie\n",
      "http://example.com/tillie\n"
     ]
    }
   ],
   "source": [
    "# 获取所有链接\n",
    "links = soup.find_all('a')\n",
    "for l in links:\n",
    "    print(l.get('href'))"
   ]
  },
  {
   "cell_type": "code",
   "execution_count": 124,
   "metadata": {},
   "outputs": [
    {
     "name": "stdout",
     "output_type": "stream",
     "text": [
      "The Dormouse's story\n",
      "\n",
      "The Dormouse's story\n",
      "Once upon a time there were three little sisters; and their names were\n",
      "Elsie,\n",
      "Lacie and\n",
      "Tillie;\n",
      "and they lived at the bottom of a well.\n",
      "...\n",
      "\n"
     ]
    }
   ],
   "source": [
    "#获取所有文字内容\n",
    "print(soup.get_text())"
   ]
  },
  {
   "cell_type": "code",
   "execution_count": 136,
   "metadata": {},
   "outputs": [
    {
     "data": {
      "text/plain": [
       "{'class': ['sn-login-info'], 'id': 'login-info'}"
      ]
     },
     "execution_count": 136,
     "metadata": {},
     "output_type": "execute_result"
    }
   ],
   "source": [
    "soup.p.attrs"
   ]
  },
  {
   "cell_type": "code",
   "execution_count": 138,
   "metadata": {},
   "outputs": [
    {
     "data": {
      "text/plain": [
       "'my id'"
      ]
     },
     "execution_count": 138,
     "metadata": {},
     "output_type": "execute_result"
    }
   ],
   "source": [
    "id_soup = BeautifulSoup('<p id=\"my id\"></p>','html.parser')\n",
    "id_soup.p['id']"
   ]
  },
  {
   "cell_type": "code",
   "execution_count": 145,
   "metadata": {},
   "outputs": [
    {
     "data": {
      "text/plain": [
       "['index', 'contents']"
      ]
     },
     "execution_count": 145,
     "metadata": {},
     "output_type": "execute_result"
    }
   ],
   "source": [
    "# lxml文档有多只属性操作\n",
    "rel_soup = BeautifulSoup('<p>Back to the <a rel=\"index\">homepage</a></p>','lxml')\n",
    "rel_soup.a['rel'] = ['index','contents']\n",
    "rel_soup.p\n",
    "rel_soup.a['rel']"
   ]
  },
  {
   "cell_type": "code",
   "execution_count": 149,
   "metadata": {},
   "outputs": [
    {
     "data": {
      "text/plain": [
       "'body strikeout'"
      ]
     },
     "execution_count": 149,
     "metadata": {},
     "output_type": "execute_result"
    }
   ],
   "source": [
    "# xml 文档不存在多值属性\n",
    "xml_soup = BeautifulSoup('<p class=\"body strikeout\"></p>', 'xml')\n",
    "xml_soup.p['class']"
   ]
  },
  {
   "cell_type": "code",
   "execution_count": 152,
   "metadata": {},
   "outputs": [
    {
     "data": {
      "text/plain": [
       "'Hey, buddy. Want to buy a used parser?'"
      ]
     },
     "execution_count": 152,
     "metadata": {},
     "output_type": "execute_result"
    }
   ],
   "source": [
    "markup = \"<b><!--Hey, buddy. Want to buy a used parser?--></b>\"\n",
    "soup = BeautifulSoup(markup,'lxml')\n",
    "comment = soup.b.string\n",
    "comment"
   ]
  },
  {
   "cell_type": "code",
   "execution_count": 156,
   "metadata": {},
   "outputs": [
    {
     "name": "stdout",
     "output_type": "stream",
     "text": [
      "<b>\n",
      " <!--Hey, buddy. Want to buy a used parser?-->\n",
      "</b>\n"
     ]
    }
   ],
   "source": [
    "print(soup.b.prettify())"
   ]
  },
  {
   "cell_type": "code",
   "execution_count": 159,
   "metadata": {},
   "outputs": [
    {
     "name": "stdout",
     "output_type": "stream",
     "text": [
      "<html>\n",
      " <head>\n",
      "  <title>\n",
      "   The Dormouse's story\n",
      "  </title>\n",
      " </head>\n",
      " <body>\n",
      "  <p class=\"title\">\n",
      "   <b>\n",
      "    The Dormouse's story\n",
      "   </b>\n",
      "  </p>\n",
      "  <p class=\"story\">\n",
      "   Once upon a time there were three little sisters; and their names were\n",
      "   <a class=\"sister\" href=\"http://example.com/elsie\" id=\"link1\">\n",
      "    Elsie\n",
      "   </a>\n",
      "   ,\n",
      "   <a class=\"sister\" href=\"http://example.com/lacie\" id=\"link2\">\n",
      "    Lacie\n",
      "   </a>\n",
      "   and\n",
      "   <a class=\"sister\" href=\"http://example.com/tillie\" id=\"link3\">\n",
      "    Tillie\n",
      "   </a>\n",
      "   ;\n",
      "and they lived at the bottom of a well.\n",
      "  </p>\n",
      "  <p class=\"story\">\n",
      "   ...\n",
      "  </p>\n",
      " </body>\n",
      "</html>\n"
     ]
    }
   ],
   "source": [
    "soup = BeautifulSoup(html_doc,\"lxml\")\n",
    "print(soup.prettify())"
   ]
  },
  {
   "cell_type": "code",
   "execution_count": 194,
   "metadata": {},
   "outputs": [
    {
     "name": "stdout",
     "output_type": "stream",
     "text": [
      "<html>\n",
      " <body>\n",
      "  <a>\n",
      "   <b>\n",
      "    text1\n",
      "   </b>\n",
      "   <c>\n",
      "    text2\n",
      "   </c>\n",
      "  </a>\n",
      " </body>\n",
      "</html>\n"
     ]
    }
   ],
   "source": [
    "sibling_soup = BeautifulSoup(\"<a><b>text1</b><c>text2</c></b></a>\",'lxml')\n",
    "print(sibling_soup.prettify())"
   ]
  },
  {
   "cell_type": "code",
   "execution_count": 241,
   "metadata": {},
   "outputs": [
    {
     "name": "stdout",
     "output_type": "stream",
     "text": [
      "html\n",
      "head\n",
      "title\n",
      "body\n",
      "p\n",
      "b\n",
      "p\n",
      "a\n",
      "a\n",
      "a\n",
      "p\n",
      "http://example.com/elsie\n",
      "http://example.com/lacie\n",
      "http://example.com/tillie\n",
      "http://example.com/elsie\n"
     ]
    },
    {
     "data": {
      "text/plain": [
       "[<a class=\"sister\" href=\"http://example.com/elsie\" id=\"link1\">Elsie</a>,\n",
       " <a class=\"sister\" href=\"http://example.com/lacie\" id=\"link2\">Lacie</a>,\n",
       " <a class=\"sister\" href=\"http://example.com/tillie\" id=\"link3\">Tillie</a>]"
      ]
     },
     "execution_count": 241,
     "metadata": {},
     "output_type": "execute_result"
    }
   ],
   "source": [
    "for tag in soup.find_all(True):\n",
    "    print(tag.name)\n",
    "    \n",
    "for l in soup.find_all(class_ = 'sister'):\n",
    "    print(l.get('href'))\n",
    "    \n",
    "for l in soup.find_all(href=re.compile(\"elsie\")):\n",
    "    print(l.get('href'))\n",
    "    \n",
    "#soup.find_all(href=re.compile(\"elsie\"))[0].get('href')\n",
    "\n",
    "data_soup = BeautifulSoup('<div data-foo=\"value\">foo!</div>', 'lxml')\n",
    "data_soup.find_all(attrs = {\"data-foo\":'value'})\n",
    "\n",
    "def has_six_characters(css_class):\n",
    "    return css_class is not None and len(css_class) == 6\n",
    "soup.find_all(class_ = has_six_characters)"
   ]
  },
  {
   "cell_type": "markdown",
   "metadata": {},
   "source": [
    "### Manipulate with RR scraped by Team Indian"
   ]
  },
  {
   "cell_type": "code",
   "execution_count": 205,
   "metadata": {
    "collapsed": true
   },
   "outputs": [],
   "source": [
    "import pandas as pd\n",
    "amazon = pd.read_csv(\"C:/Users/janney.zhang/Desktop/work/projects/Nestle/tickets/t1.cn.adhoc.amazon.india--27580.2018-02-24.v0.csv\",encoding=\"utf-8\")\n",
    "suning = pd.read_csv(\"C:/Users/janney.zhang/Desktop/work/projects/Nestle/tickets/t1.cn.adhoc.Suning.india--27580.2018-02-27.v0.csv\",encoding=\"utf-8\")\n",
    "yihaodian = pd.read_csv(\"C:/Users/janney.zhang/Desktop/work/projects/Nestle/tickets/t1.cn.yhd.reviewtext.adhoc.url.india--27580.2018-02-28.v0.csv\",encoding=\"utf-8\")\n"
   ]
  },
  {
   "cell_type": "code",
   "execution_count": 217,
   "metadata": {},
   "outputs": [
    {
     "name": "stdout",
     "output_type": "stream",
     "text": [
      "amazon shape: 29,25\n",
      " yihaodian shape: 11277,22\n",
      " suning shape: 10462,23\n",
      "\n"
     ]
    }
   ],
   "source": [
    "print('amazon shape: %d,%d\\n'%(amazon.shape[0],amazon.shape[1]),\n",
    "      'yihaodian shape: %d,%d\\n'%(yihaodian.shape[0],yihaodian.shape[1]),\n",
    "      'suning shape: %d,%d\\n'%(suning.shape[0],suning.shape[1]))\n"
   ]
  },
  {
   "cell_type": "code",
   "execution_count": 218,
   "metadata": {},
   "outputs": [
    {
     "data": {
      "text/plain": [
       "Index(['found_helpful', '#comments', 'harvest_brand',\n",
       "       'harvest_product_description', 'publish_time', 'retailer_product_code',\n",
       "       'review_date', 'review_rating', 'review_text', 'review_title',\n",
       "       'top_reviewer_flag', 'upc', 'url', 'verified_purchase', 'vine_voice',\n",
       "       'manufacturer_response', 'manufacturer_response_text', 'parent_review',\n",
       "       'syndicated_from', 'direct_review_url', 'purchase_time', 'user_level',\n",
       "       'variants', 'source_path', 'parent_review_asin'],\n",
       "      dtype='object')"
      ]
     },
     "execution_count": 218,
     "metadata": {},
     "output_type": "execute_result"
    }
   ],
   "source": [
    "amazon.columns"
   ]
  },
  {
   "cell_type": "code",
   "execution_count": 242,
   "metadata": {},
   "outputs": [
    {
     "data": {
      "text/plain": [
       "Index(['found_helpful', '#comments', 'harvest_brand',\n",
       "       'harvest_product_description', 'publish_time', 'retailer_product_code',\n",
       "       'review_date', 'review_rating', 'review_text', 'review_title',\n",
       "       'top_reviewer_flag', 'upc', 'url', 'verified_purchase', 'vine_voice',\n",
       "       'manufacturer_response', 'manufacturer_response_text', 'parent_review',\n",
       "       'syndicated_from', 'direct_review_url', 'purchase_time', 'user_level'],\n",
       "      dtype='object')"
      ]
     },
     "execution_count": 242,
     "metadata": {},
     "output_type": "execute_result"
    }
   ],
   "source": [
    "yihaodian.columns"
   ]
  },
  {
   "cell_type": "code",
   "execution_count": 244,
   "metadata": {},
   "outputs": [
    {
     "data": {
      "text/plain": [
       "Index(['found_helpful', '#comments', 'harvest_brand',\n",
       "       'harvest_product_description', 'publish_time', 'retailer_product_code',\n",
       "       'review_date', 'review_rating', 'review_text', 'review_title',\n",
       "       'top_reviewer_flag', 'upc', 'url', 'verified_purchase', 'vine_voice',\n",
       "       'manufacturer_response', 'manufacturer_response_text', 'parent_review',\n",
       "       'syndicated_from', 'direct_review_url', 'purchase_time', 'user_level',\n",
       "       'variants'],\n",
       "      dtype='object')"
      ]
     },
     "execution_count": 244,
     "metadata": {},
     "output_type": "execute_result"
    }
   ],
   "source": [
    "suning.columns"
   ]
  },
  {
   "cell_type": "code",
   "execution_count": 284,
   "metadata": {},
   "outputs": [
    {
     "data": {
      "text/html": [
       "<div>\n",
       "<style>\n",
       "    .dataframe thead tr:only-child th {\n",
       "        text-align: right;\n",
       "    }\n",
       "\n",
       "    .dataframe thead th {\n",
       "        text-align: left;\n",
       "    }\n",
       "\n",
       "    .dataframe tbody tr th {\n",
       "        vertical-align: top;\n",
       "    }\n",
       "</style>\n",
       "<table border=\"1\" class=\"dataframe\">\n",
       "  <thead>\n",
       "    <tr style=\"text-align: right;\">\n",
       "      <th></th>\n",
       "      <th>source_path</th>\n",
       "      <th>parent_review_asin</th>\n",
       "      <th>retailer_product_code</th>\n",
       "    </tr>\n",
       "  </thead>\n",
       "  <tbody>\n",
       "    <tr>\n",
       "      <th>0</th>\n",
       "      <td>/storage_server/ArchiveData/review_details/dai...</td>\n",
       "      <td>B003P8OZAK</td>\n",
       "      <td>B003P8OZAK</td>\n",
       "    </tr>\n",
       "    <tr>\n",
       "      <th>1</th>\n",
       "      <td>/storage_server/ArchiveData/review_details/dai...</td>\n",
       "      <td>B06XVRZDMM</td>\n",
       "      <td>B071X46QHB</td>\n",
       "    </tr>\n",
       "    <tr>\n",
       "      <th>2</th>\n",
       "      <td>/storage_server/ArchiveData/review_details/dai...</td>\n",
       "      <td>B06XVRZDMM</td>\n",
       "      <td>B071X46QHB</td>\n",
       "    </tr>\n",
       "  </tbody>\n",
       "</table>\n",
       "</div>"
      ],
      "text/plain": [
       "                                         source_path parent_review_asin  \\\n",
       "0  /storage_server/ArchiveData/review_details/dai...         B003P8OZAK   \n",
       "1  /storage_server/ArchiveData/review_details/dai...         B06XVRZDMM   \n",
       "2  /storage_server/ArchiveData/review_details/dai...         B06XVRZDMM   \n",
       "\n",
       "  retailer_product_code  \n",
       "0            B003P8OZAK  \n",
       "1            B071X46QHB  \n",
       "2            B071X46QHB  "
      ]
     },
     "execution_count": 284,
     "metadata": {},
     "output_type": "execute_result"
    }
   ],
   "source": [
    "amazon.head(3)[['source_path', 'parent_review_asin', 'retailer_product_code']]"
   ]
  },
  {
   "cell_type": "code",
   "execution_count": 292,
   "metadata": {},
   "outputs": [
    {
     "data": {
      "text/plain": [
       "(21768, 25)"
      ]
     },
     "execution_count": 292,
     "metadata": {},
     "output_type": "execute_result"
    }
   ],
   "source": [
    "df1 = amazon.append(suning,ignore_index=True)\n",
    "df2 = df1.append(yihaodian, ignore_index=True)\n",
    "df2.shape"
   ]
  },
  {
   "cell_type": "code",
   "execution_count": 305,
   "metadata": {
    "collapsed": true
   },
   "outputs": [],
   "source": [
    "df2.to_csv(\"Amazon_Suning_yhd_TI_adhoc_reviews_nestle_jan.csv\", \n",
    "           header=False, encoding= 'utf-8')"
   ]
  },
  {
   "cell_type": "code",
   "execution_count": 307,
   "metadata": {
    "collapsed": true
   },
   "outputs": [],
   "source": [
    "local = pd.read_excel(\"download_Janney.Nestle.reviews.adhoc.18010_180131.2018_0226_1222.xlsx\",\n",
    "                     encoding = 'utf-8')"
   ]
  },
  {
   "cell_type": "code",
   "execution_count": 309,
   "metadata": {},
   "outputs": [
    {
     "data": {
      "text/plain": [
       "Index(['store', 'sub_store', 'url', 'rpc', 'title', 'review_id',\n",
       "       'creation_date', 'username', 'review_text', 'review_rating',\n",
       "       'variant_1', 'variant_2', 'device', 'job_id', 'download_time'],\n",
       "      dtype='object')"
      ]
     },
     "execution_count": 309,
     "metadata": {},
     "output_type": "execute_result"
    }
   ],
   "source": [
    "local.columns"
   ]
  },
  {
   "cell_type": "code",
   "execution_count": 344,
   "metadata": {
    "collapsed": true
   },
   "outputs": [],
   "source": [
    "import numpy as np\n",
    "\n",
    "local = local.drop(['sub_store','device'],axis=1)\n"
   ]
  },
  {
   "cell_type": "code",
   "execution_count": 345,
   "metadata": {},
   "outputs": [
    {
     "data": {
      "text/plain": [
       "store            28634\n",
       "url              28634\n",
       "rpc              28634\n",
       "title            28634\n",
       "review_id        28634\n",
       "creation_date    28634\n",
       "username         28634\n",
       "review_text      28634\n",
       "review_rating    21141\n",
       "variant_1        20814\n",
       "variant_2         7743\n",
       "job_id           28634\n",
       "download_time    28634\n",
       "dtype: int64"
      ]
     },
     "execution_count": 345,
     "metadata": {},
     "output_type": "execute_result"
    }
   ],
   "source": [
    "local.count()"
   ]
  },
  {
   "cell_type": "code",
   "execution_count": 310,
   "metadata": {},
   "outputs": [
    {
     "data": {
      "text/plain": [
       "Index(['#comments', 'direct_review_url', 'found_helpful', 'harvest_brand',\n",
       "       'harvest_product_description', 'manufacturer_response',\n",
       "       'manufacturer_response_text', 'parent_review', 'parent_review_asin',\n",
       "       'publish_time', 'purchase_time', 'retailer_product_code', 'review_date',\n",
       "       'review_rating', 'review_text', 'review_title', 'source_path',\n",
       "       'syndicated_from', 'top_reviewer_flag', 'upc', 'url', 'user_level',\n",
       "       'variants', 'verified_purchase', 'vine_voice'],\n",
       "      dtype='object')"
      ]
     },
     "execution_count": 310,
     "metadata": {},
     "output_type": "execute_result"
    }
   ],
   "source": [
    "df2.columns"
   ]
  },
  {
   "cell_type": "code",
   "execution_count": 315,
   "metadata": {},
   "outputs": [
    {
     "data": {
      "text/html": [
       "<div>\n",
       "<style>\n",
       "    .dataframe thead tr:only-child th {\n",
       "        text-align: right;\n",
       "    }\n",
       "\n",
       "    .dataframe thead th {\n",
       "        text-align: left;\n",
       "    }\n",
       "\n",
       "    .dataframe tbody tr th {\n",
       "        vertical-align: top;\n",
       "    }\n",
       "</style>\n",
       "<table border=\"1\" class=\"dataframe\">\n",
       "  <thead>\n",
       "    <tr style=\"text-align: right;\">\n",
       "      <th></th>\n",
       "      <th>#comments</th>\n",
       "      <th>direct_review_url</th>\n",
       "      <th>found_helpful</th>\n",
       "      <th>harvest_brand</th>\n",
       "      <th>harvest_product_description</th>\n",
       "      <th>manufacturer_response</th>\n",
       "      <th>manufacturer_response_text</th>\n",
       "      <th>parent_review</th>\n",
       "      <th>parent_review_asin</th>\n",
       "      <th>publish_time</th>\n",
       "      <th>...</th>\n",
       "      <th>review_title</th>\n",
       "      <th>source_path</th>\n",
       "      <th>syndicated_from</th>\n",
       "      <th>top_reviewer_flag</th>\n",
       "      <th>upc</th>\n",
       "      <th>url</th>\n",
       "      <th>user_level</th>\n",
       "      <th>variants</th>\n",
       "      <th>verified_purchase</th>\n",
       "      <th>vine_voice</th>\n",
       "    </tr>\n",
       "  </thead>\n",
       "  <tbody>\n",
       "    <tr>\n",
       "      <th>0</th>\n",
       "      <td>NaN</td>\n",
       "      <td>http://www.amazon.cn/gp/customer-reviews/R3VRG...</td>\n",
       "      <td>NaN</td>\n",
       "      <td>Nestle 雀巢</td>\n",
       "      <td>雀巢 Nestle 能恩4段 3岁以上儿童配方奶粉 900g 罐装</td>\n",
       "      <td>NaN</td>\n",
       "      <td>NaN</td>\n",
       "      <td>1.0</td>\n",
       "      <td>B003P8OZAK</td>\n",
       "      <td>NaN</td>\n",
       "      <td>...</td>\n",
       "      <td>有一罐没有塑料盖，直接锡纸做顶盖！</td>\n",
       "      <td>/storage_server/ArchiveData/review_details/dai...</td>\n",
       "      <td>NaN</td>\n",
       "      <td>NaN</td>\n",
       "      <td>NaN</td>\n",
       "      <td>https://www.amazon.cn/dp/B003P8OZAK</td>\n",
       "      <td>NaN</td>\n",
       "      <td>NaN</td>\n",
       "      <td>已确认购买</td>\n",
       "      <td>NaN</td>\n",
       "    </tr>\n",
       "    <tr>\n",
       "      <th>1</th>\n",
       "      <td>NaN</td>\n",
       "      <td>http://www.amazon.cn/gp/customer-reviews/R2GY8...</td>\n",
       "      <td>NaN</td>\n",
       "      <td>Nestle 雀巢</td>\n",
       "      <td>雀巢 Nestle 能恩3段 12-36个月幼儿配方奶粉 900g 罐装*6听 整箱装</td>\n",
       "      <td>NaN</td>\n",
       "      <td>NaN</td>\n",
       "      <td>0.0</td>\n",
       "      <td>B06XVRZDMM</td>\n",
       "      <td>NaN</td>\n",
       "      <td>...</td>\n",
       "      <td>包装差，送货差</td>\n",
       "      <td>/storage_server/ArchiveData/review_details/dai...</td>\n",
       "      <td>NaN</td>\n",
       "      <td>NaN</td>\n",
       "      <td>NaN</td>\n",
       "      <td>https://www.amazon.cn/dp/B071X46QHB</td>\n",
       "      <td>NaN</td>\n",
       "      <td>NaN</td>\n",
       "      <td>已确认购买</td>\n",
       "      <td>NaN</td>\n",
       "    </tr>\n",
       "    <tr>\n",
       "      <th>2</th>\n",
       "      <td>NaN</td>\n",
       "      <td>http://www.amazon.cn/gp/customer-reviews/R3L2O...</td>\n",
       "      <td>NaN</td>\n",
       "      <td>Nestle 雀巢</td>\n",
       "      <td>雀巢 Nestle 能恩3段 12-36个月幼儿配方奶粉 900g 罐装*6听 整箱装</td>\n",
       "      <td>NaN</td>\n",
       "      <td>NaN</td>\n",
       "      <td>0.0</td>\n",
       "      <td>B06XVRZDMM</td>\n",
       "      <td>NaN</td>\n",
       "      <td>...</td>\n",
       "      <td>不错</td>\n",
       "      <td>/storage_server/ArchiveData/review_details/dai...</td>\n",
       "      <td>NaN</td>\n",
       "      <td>NaN</td>\n",
       "      <td>NaN</td>\n",
       "      <td>https://www.amazon.cn/dp/B071X46QHB</td>\n",
       "      <td>NaN</td>\n",
       "      <td>NaN</td>\n",
       "      <td>已确认购买</td>\n",
       "      <td>NaN</td>\n",
       "    </tr>\n",
       "  </tbody>\n",
       "</table>\n",
       "<p>3 rows × 25 columns</p>\n",
       "</div>"
      ],
      "text/plain": [
       "   #comments                                  direct_review_url  \\\n",
       "0        NaN  http://www.amazon.cn/gp/customer-reviews/R3VRG...   \n",
       "1        NaN  http://www.amazon.cn/gp/customer-reviews/R2GY8...   \n",
       "2        NaN  http://www.amazon.cn/gp/customer-reviews/R3L2O...   \n",
       "\n",
       "   found_helpful harvest_brand                  harvest_product_description  \\\n",
       "0            NaN     Nestle 雀巢            雀巢 Nestle 能恩4段 3岁以上儿童配方奶粉 900g 罐装   \n",
       "1            NaN     Nestle 雀巢  雀巢 Nestle 能恩3段 12-36个月幼儿配方奶粉 900g 罐装*6听 整箱装   \n",
       "2            NaN     Nestle 雀巢  雀巢 Nestle 能恩3段 12-36个月幼儿配方奶粉 900g 罐装*6听 整箱装   \n",
       "\n",
       "   manufacturer_response  manufacturer_response_text  parent_review  \\\n",
       "0                    NaN                         NaN            1.0   \n",
       "1                    NaN                         NaN            0.0   \n",
       "2                    NaN                         NaN            0.0   \n",
       "\n",
       "  parent_review_asin  publish_time     ...           review_title  \\\n",
       "0         B003P8OZAK           NaN     ...      有一罐没有塑料盖，直接锡纸做顶盖！   \n",
       "1         B06XVRZDMM           NaN     ...                包装差，送货差   \n",
       "2         B06XVRZDMM           NaN     ...                     不错   \n",
       "\n",
       "                                         source_path syndicated_from  \\\n",
       "0  /storage_server/ArchiveData/review_details/dai...             NaN   \n",
       "1  /storage_server/ArchiveData/review_details/dai...             NaN   \n",
       "2  /storage_server/ArchiveData/review_details/dai...             NaN   \n",
       "\n",
       "  top_reviewer_flag upc                                  url user_level  \\\n",
       "0               NaN NaN  https://www.amazon.cn/dp/B003P8OZAK        NaN   \n",
       "1               NaN NaN  https://www.amazon.cn/dp/B071X46QHB        NaN   \n",
       "2               NaN NaN  https://www.amazon.cn/dp/B071X46QHB        NaN   \n",
       "\n",
       "   variants  verified_purchase  vine_voice  \n",
       "0       NaN              已确认购买         NaN  \n",
       "1       NaN              已确认购买         NaN  \n",
       "2       NaN              已确认购买         NaN  \n",
       "\n",
       "[3 rows x 25 columns]"
      ]
     },
     "execution_count": 315,
     "metadata": {},
     "output_type": "execute_result"
    }
   ],
   "source": [
    "df2.head(3)"
   ]
  },
  {
   "cell_type": "code",
   "execution_count": 333,
   "metadata": {},
   "outputs": [
    {
     "data": {
      "text/plain": [
       "YHD       11277\n",
       "Suning    10462\n",
       "Amazon       29\n",
       "Name: store, dtype: int64"
      ]
     },
     "execution_count": 333,
     "metadata": {},
     "output_type": "execute_result"
    }
   ],
   "source": [
    "def get_store(url):\n",
    "    if 'amazon' in url:\n",
    "        return 'Amazon'\n",
    "    elif 'suning' in url:\n",
    "        return 'Suning'\n",
    "    elif 'yhd' in url:\n",
    "        return 'YHD'\n",
    "    else:\n",
    "        return None\n",
    "\n",
    "df2['store'] = df2['url'].map(get_store)\n",
    "df2['store']\n",
    "df2.head(3)\n",
    "df2['store'].value_counts()"
   ]
  },
  {
   "cell_type": "code",
   "execution_count": 353,
   "metadata": {},
   "outputs": [
    {
     "data": {
      "text/plain": [
       "#comments                          0\n",
       "direct_review_url                 29\n",
       "found_helpful                      0\n",
       "harvest_brand                  20824\n",
       "harvest_product_description    21768\n",
       "manufacturer_response              0\n",
       "manufacturer_response_text         0\n",
       "parent_review                     29\n",
       "parent_review_asin                29\n",
       "publish_time                       0\n",
       "purchase_time                      0\n",
       "retailer_product_code          21768\n",
       "review_date                    21768\n",
       "review_rating                  21768\n",
       "review_text                    21768\n",
       "review_title                      29\n",
       "source_path                       29\n",
       "syndicated_from                    0\n",
       "top_reviewer_flag                  0\n",
       "upc                                0\n",
       "url                            21768\n",
       "user_level                         0\n",
       "variants                           0\n",
       "verified_purchase                 28\n",
       "vine_voice                         0\n",
       "store                          21768\n",
       "dtype: int64"
      ]
     },
     "execution_count": 353,
     "metadata": {},
     "output_type": "execute_result"
    }
   ],
   "source": [
    "df2.count()"
   ]
  },
  {
   "cell_type": "code",
   "execution_count": 354,
   "metadata": {},
   "outputs": [
    {
     "data": {
      "text/plain": [
       "direct_review_url                 29\n",
       "harvest_brand                  20824\n",
       "harvest_product_description    21768\n",
       "parent_review                     29\n",
       "parent_review_asin                29\n",
       "retailer_product_code          21768\n",
       "review_date                    21768\n",
       "review_rating                  21768\n",
       "review_text                    21768\n",
       "review_title                      29\n",
       "source_path                       29\n",
       "url                            21768\n",
       "verified_purchase                 28\n",
       "store                          21768\n",
       "dtype: int64"
      ]
     },
     "execution_count": 354,
     "metadata": {},
     "output_type": "execute_result"
    }
   ],
   "source": [
    "df2 = df2.drop(['#comments',  'found_helpful',  'manufacturer_response',\n",
    "       'manufacturer_response_text', \n",
    "       'publish_time', 'purchase_time', \n",
    "       'syndicated_from', 'top_reviewer_flag', 'upc',  'user_level',\n",
    "       'variants',  'vine_voice'], axis = 1)\n",
    "df2.count()"
   ]
  },
  {
   "cell_type": "code",
   "execution_count": 358,
   "metadata": {},
   "outputs": [
    {
     "data": {
      "text/plain": [
       "Index(['direct_review_url', 'harvest_brand', 'harvest_product_description',\n",
       "       'parent_review', 'parent_review_asin', 'retailer_product_code',\n",
       "       'review_date', 'review_rating', 'review_text', 'review_title',\n",
       "       'source_path', 'url', 'verified_purchase', 'store'],\n",
       "      dtype='object')"
      ]
     },
     "execution_count": 358,
     "metadata": {},
     "output_type": "execute_result"
    }
   ],
   "source": [
    "df2.columns"
   ]
  },
  {
   "cell_type": "code",
   "execution_count": 368,
   "metadata": {},
   "outputs": [
    {
     "data": {
      "text/plain": [
       "Index(['store', 'url', 'retailer_product_code', 'harvest_product_description',\n",
       "       'review_id', 'creation_date', 'username', 'review_text',\n",
       "       'review_rating', 'variant_1', 'variant_2', 'job_id', 'download_time'],\n",
       "      dtype='object')"
      ]
     },
     "execution_count": 368,
     "metadata": {},
     "output_type": "execute_result"
    }
   ],
   "source": [
    "local.rename(columns={'title':'harvest_product_description'},inplace=True)\n",
    "local.columns"
   ]
  },
  {
   "cell_type": "code",
   "execution_count": 378,
   "metadata": {},
   "outputs": [
    {
     "data": {
      "text/html": [
       "<div>\n",
       "<style>\n",
       "    .dataframe thead tr:only-child th {\n",
       "        text-align: right;\n",
       "    }\n",
       "\n",
       "    .dataframe thead th {\n",
       "        text-align: left;\n",
       "    }\n",
       "\n",
       "    .dataframe tbody tr th {\n",
       "        vertical-align: top;\n",
       "    }\n",
       "</style>\n",
       "<table border=\"1\" class=\"dataframe\">\n",
       "  <thead>\n",
       "    <tr style=\"text-align: right;\">\n",
       "      <th></th>\n",
       "      <th>store</th>\n",
       "      <th>url</th>\n",
       "      <th>retailer_product_code</th>\n",
       "      <th>harvest_product_description</th>\n",
       "      <th>review_id</th>\n",
       "      <th>creation_date</th>\n",
       "      <th>username</th>\n",
       "      <th>review_text</th>\n",
       "      <th>review_rating</th>\n",
       "      <th>variant_1</th>\n",
       "      <th>variant_2</th>\n",
       "      <th>job_id</th>\n",
       "    </tr>\n",
       "  </thead>\n",
       "  <tbody>\n",
       "    <tr>\n",
       "      <th>0</th>\n",
       "      <td>JD</td>\n",
       "      <td>https://item.jd.com/4713594.html</td>\n",
       "      <td>4713594</td>\n",
       "      <td>雀巢（nestle）能恩 婴儿配方奶粉 1段（0-6个月婴儿适用）400克(新包装）</td>\n",
       "      <td>11207421600</td>\n",
       "      <td>2018-01-31 21:21:36</td>\n",
       "      <td>1***y</td>\n",
       "      <td>两个孩子一直用这个奶粉！值得信赖！</td>\n",
       "      <td>5.0</td>\n",
       "      <td>新包装1段400g</td>\n",
       "      <td>NaN</td>\n",
       "      <td>62595819</td>\n",
       "    </tr>\n",
       "    <tr>\n",
       "      <th>1</th>\n",
       "      <td>JD</td>\n",
       "      <td>https://item.jd.com/4713594.html</td>\n",
       "      <td>4713594</td>\n",
       "      <td>雀巢（nestle）能恩 婴儿配方奶粉 1段（0-6个月婴儿适用）400克(新包装）</td>\n",
       "      <td>11207387909</td>\n",
       "      <td>2018-01-31 21:11:53</td>\n",
       "      <td>华***娃</td>\n",
       "      <td>奶粉还不错，宝宝很喜欢。</td>\n",
       "      <td>5.0</td>\n",
       "      <td>新包装1段400g</td>\n",
       "      <td>NaN</td>\n",
       "      <td>62595819</td>\n",
       "    </tr>\n",
       "    <tr>\n",
       "      <th>2</th>\n",
       "      <td>JD</td>\n",
       "      <td>https://item.jd.com/4713594.html</td>\n",
       "      <td>4713594</td>\n",
       "      <td>雀巢（nestle）能恩 婴儿配方奶粉 1段（0-6个月婴儿适用）400克(新包装）</td>\n",
       "      <td>11206954726</td>\n",
       "      <td>2018-01-31 19:07:24</td>\n",
       "      <td>j***u</td>\n",
       "      <td>一直用这个牌子不错</td>\n",
       "      <td>5.0</td>\n",
       "      <td>新包装1段400g</td>\n",
       "      <td>NaN</td>\n",
       "      <td>62595819</td>\n",
       "    </tr>\n",
       "  </tbody>\n",
       "</table>\n",
       "</div>"
      ],
      "text/plain": [
       "  store                               url  retailer_product_code  \\\n",
       "0    JD  https://item.jd.com/4713594.html                4713594   \n",
       "1    JD  https://item.jd.com/4713594.html                4713594   \n",
       "2    JD  https://item.jd.com/4713594.html                4713594   \n",
       "\n",
       "                  harvest_product_description    review_id  \\\n",
       "0  雀巢（nestle）能恩 婴儿配方奶粉 1段（0-6个月婴儿适用）400克(新包装）  11207421600   \n",
       "1  雀巢（nestle）能恩 婴儿配方奶粉 1段（0-6个月婴儿适用）400克(新包装）  11207387909   \n",
       "2  雀巢（nestle）能恩 婴儿配方奶粉 1段（0-6个月婴儿适用）400克(新包装）  11206954726   \n",
       "\n",
       "        creation_date username        review_text  review_rating  variant_1  \\\n",
       "0 2018-01-31 21:21:36    1***y  两个孩子一直用这个奶粉！值得信赖！            5.0  新包装1段400g   \n",
       "1 2018-01-31 21:11:53    华***娃       奶粉还不错，宝宝很喜欢。            5.0  新包装1段400g   \n",
       "2 2018-01-31 19:07:24    j***u          一直用这个牌子不错            5.0  新包装1段400g   \n",
       "\n",
       "  variant_2    job_id  \n",
       "0       NaN  62595819  \n",
       "1       NaN  62595819  \n",
       "2       NaN  62595819  "
      ]
     },
     "execution_count": 378,
     "metadata": {},
     "output_type": "execute_result"
    }
   ],
   "source": [
    "local = local.drop(['download_time'],axis=1)\n"
   ]
  },
  {
   "cell_type": "code",
   "execution_count": 380,
   "metadata": {},
   "outputs": [
    {
     "data": {
      "text/plain": [
       "(28634, 12)"
      ]
     },
     "execution_count": 380,
     "metadata": {},
     "output_type": "execute_result"
    }
   ],
   "source": [
    "local.shape"
   ]
  },
  {
   "cell_type": "code",
   "execution_count": 388,
   "metadata": {},
   "outputs": [],
   "source": [
    "local['dup_review'] = local.duplicated(['review_id'])"
   ]
  },
  {
   "cell_type": "code",
   "execution_count": 405,
   "metadata": {},
   "outputs": [
    {
     "data": {
      "text/plain": [
       "(1449, 13)"
      ]
     },
     "execution_count": 405,
     "metadata": {},
     "output_type": "execute_result"
    }
   ],
   "source": [
    "local.sort_values('review_id',inplace=True)\n",
    "local[local['dup_review'] == True].shape"
   ]
  },
  {
   "cell_type": "code",
   "execution_count": 407,
   "metadata": {},
   "outputs": [
    {
     "data": {
      "text/plain": [
       "(27185, 13)"
      ]
     },
     "execution_count": 407,
     "metadata": {},
     "output_type": "execute_result"
    }
   ],
   "source": [
    "local.drop_duplicates('review_id',inplace=True)\n",
    "local.shape"
   ]
  },
  {
   "cell_type": "code",
   "execution_count": 416,
   "metadata": {},
   "outputs": [
    {
     "data": {
      "text/plain": [
       "Index(['store', 'url', 'retailer_product_code', 'harvest_product_description',\n",
       "       'review_id', 'creation_date', 'username', 'review_text',\n",
       "       'review_rating', 'variant_1', 'variant_2', 'job_id', 'dup_review'],\n",
       "      dtype='object')"
      ]
     },
     "execution_count": 416,
     "metadata": {},
     "output_type": "execute_result"
    }
   ],
   "source": [
    "local.columns"
   ]
  },
  {
   "cell_type": "code",
   "execution_count": 418,
   "metadata": {
    "scrolled": true
   },
   "outputs": [
    {
     "data": {
      "text/html": [
       "<div>\n",
       "<style>\n",
       "    .dataframe thead tr:only-child th {\n",
       "        text-align: right;\n",
       "    }\n",
       "\n",
       "    .dataframe thead th {\n",
       "        text-align: left;\n",
       "    }\n",
       "\n",
       "    .dataframe tbody tr th {\n",
       "        vertical-align: top;\n",
       "    }\n",
       "</style>\n",
       "<table border=\"1\" class=\"dataframe\">\n",
       "  <thead>\n",
       "    <tr style=\"text-align: right;\">\n",
       "      <th></th>\n",
       "      <th>store</th>\n",
       "      <th>url</th>\n",
       "      <th>retailer_product_code</th>\n",
       "      <th>harvest_product_description</th>\n",
       "      <th>review_id</th>\n",
       "      <th>creation_date</th>\n",
       "      <th>username</th>\n",
       "      <th>review_text</th>\n",
       "      <th>review_rating</th>\n",
       "      <th>variant_1</th>\n",
       "      <th>variant_2</th>\n",
       "      <th>job_id</th>\n",
       "    </tr>\n",
       "  </thead>\n",
       "  <tbody>\n",
       "    <tr>\n",
       "      <th>2721</th>\n",
       "      <td>JD</td>\n",
       "      <td>https://item.jd.com/1080961.html</td>\n",
       "      <td>1080961</td>\n",
       "      <td>雀巢（nestle）能恩 蜂蜜口味儿童配方奶粉 4段（3岁以上儿童适用）400克(新老包装随...</td>\n",
       "      <td>11121390236</td>\n",
       "      <td>2018-01-01 00:14:46</td>\n",
       "      <td>j***c</td>\n",
       "      <td>很好</td>\n",
       "      <td>5.0</td>\n",
       "      <td>4段400g</td>\n",
       "      <td>NaN</td>\n",
       "      <td>62595828</td>\n",
       "    </tr>\n",
       "    <tr>\n",
       "      <th>5421</th>\n",
       "      <td>JD</td>\n",
       "      <td>https://item.jd.com/4396232.html</td>\n",
       "      <td>4396232</td>\n",
       "      <td>雀巢（nestle）超级能恩 婴儿配方奶粉 1段（0-12个月适用）800克（德国原装进口）...</td>\n",
       "      <td>11121390308</td>\n",
       "      <td>2018-01-01 00:15:27</td>\n",
       "      <td>五***扬</td>\n",
       "      <td>挺好的啊</td>\n",
       "      <td>5.0</td>\n",
       "      <td>新升级1段</td>\n",
       "      <td>NaN</td>\n",
       "      <td>62595854</td>\n",
       "    </tr>\n",
       "    <tr>\n",
       "      <th>2720</th>\n",
       "      <td>JD</td>\n",
       "      <td>https://item.jd.com/1080961.html</td>\n",
       "      <td>1080961</td>\n",
       "      <td>雀巢（nestle）能恩 蜂蜜口味儿童配方奶粉 4段（3岁以上儿童适用）400克(新老包装随...</td>\n",
       "      <td>11121390663</td>\n",
       "      <td>2018-01-01 00:15:35</td>\n",
       "      <td>j***c</td>\n",
       "      <td>不错</td>\n",
       "      <td>5.0</td>\n",
       "      <td>4段400g</td>\n",
       "      <td>NaN</td>\n",
       "      <td>62595828</td>\n",
       "    </tr>\n",
       "  </tbody>\n",
       "</table>\n",
       "</div>"
      ],
      "text/plain": [
       "     store                               url  retailer_product_code  \\\n",
       "2721    JD  https://item.jd.com/1080961.html                1080961   \n",
       "5421    JD  https://item.jd.com/4396232.html                4396232   \n",
       "2720    JD  https://item.jd.com/1080961.html                1080961   \n",
       "\n",
       "                            harvest_product_description    review_id  \\\n",
       "2721  雀巢（nestle）能恩 蜂蜜口味儿童配方奶粉 4段（3岁以上儿童适用）400克(新老包装随...  11121390236   \n",
       "5421  雀巢（nestle）超级能恩 婴儿配方奶粉 1段（0-12个月适用）800克（德国原装进口）...  11121390308   \n",
       "2720  雀巢（nestle）能恩 蜂蜜口味儿童配方奶粉 4段（3岁以上儿童适用）400克(新老包装随...  11121390663   \n",
       "\n",
       "           creation_date username review_text  review_rating variant_1  \\\n",
       "2721 2018-01-01 00:14:46    j***c          很好            5.0    4段400g   \n",
       "5421 2018-01-01 00:15:27    五***扬        挺好的啊            5.0     新升级1段   \n",
       "2720 2018-01-01 00:15:35    j***c          不错            5.0    4段400g   \n",
       "\n",
       "     variant_2    job_id  \n",
       "2721       NaN  62595828  \n",
       "5421       NaN  62595854  \n",
       "2720       NaN  62595828  "
      ]
     },
     "execution_count": 418,
     "metadata": {},
     "output_type": "execute_result"
    }
   ],
   "source": [
    "local.drop('dup_review',axis=1,inplace=True)\n",
    "local.head(3)"
   ]
  },
  {
   "cell_type": "code",
   "execution_count": 440,
   "metadata": {
    "collapsed": true
   },
   "outputs": [],
   "source": [
    "local.to_csv(\"local_nestle_JD&Tmall_Jan.csv\", index= False, encoding='utf-8',sep = ',')"
   ]
  },
  {
   "cell_type": "code",
   "execution_count": 413,
   "metadata": {},
   "outputs": [
    {
     "data": {
      "text/html": [
       "<div>\n",
       "<style>\n",
       "    .dataframe thead tr:only-child th {\n",
       "        text-align: right;\n",
       "    }\n",
       "\n",
       "    .dataframe thead th {\n",
       "        text-align: left;\n",
       "    }\n",
       "\n",
       "    .dataframe tbody tr th {\n",
       "        vertical-align: top;\n",
       "    }\n",
       "</style>\n",
       "<table border=\"1\" class=\"dataframe\">\n",
       "  <thead>\n",
       "    <tr style=\"text-align: right;\">\n",
       "      <th></th>\n",
       "      <th>direct_review_url</th>\n",
       "      <th>harvest_brand</th>\n",
       "      <th>harvest_product_description</th>\n",
       "      <th>parent_review</th>\n",
       "      <th>parent_review_asin</th>\n",
       "      <th>retailer_product_code</th>\n",
       "      <th>review_date</th>\n",
       "      <th>review_rating</th>\n",
       "      <th>review_text</th>\n",
       "      <th>review_title</th>\n",
       "      <th>source_path</th>\n",
       "      <th>url</th>\n",
       "      <th>verified_purchase</th>\n",
       "      <th>store</th>\n",
       "    </tr>\n",
       "  </thead>\n",
       "  <tbody>\n",
       "    <tr>\n",
       "      <th>0</th>\n",
       "      <td>http://www.amazon.cn/gp/customer-reviews/R3VRG...</td>\n",
       "      <td>Nestle 雀巢</td>\n",
       "      <td>雀巢 Nestle 能恩4段 3岁以上儿童配方奶粉 900g 罐装</td>\n",
       "      <td>1.0</td>\n",
       "      <td>B003P8OZAK</td>\n",
       "      <td>B003P8OZAK</td>\n",
       "      <td>2018-01-11T00:00:00</td>\n",
       "      <td>4</td>\n",
       "      <td>都17年末了，还是发的旧包装，最可气的是，有一罐奶粉的塑料盖子也没有了，就那么放进包装箱里，...</td>\n",
       "      <td>有一罐没有塑料盖，直接锡纸做顶盖！</td>\n",
       "      <td>/storage_server/ArchiveData/review_details/dai...</td>\n",
       "      <td>https://www.amazon.cn/dp/B003P8OZAK</td>\n",
       "      <td>已确认购买</td>\n",
       "      <td>Amazon</td>\n",
       "    </tr>\n",
       "    <tr>\n",
       "      <th>1</th>\n",
       "      <td>http://www.amazon.cn/gp/customer-reviews/R2GY8...</td>\n",
       "      <td>Nestle 雀巢</td>\n",
       "      <td>雀巢 Nestle 能恩3段 12-36个月幼儿配方奶粉 900g 罐装*6听 整箱装</td>\n",
       "      <td>0.0</td>\n",
       "      <td>B06XVRZDMM</td>\n",
       "      <td>B071X46QHB</td>\n",
       "      <td>2018-02-10T00:00:00</td>\n",
       "      <td>2</td>\n",
       "      <td>包装极差（看下面图片），送货速度龟速，到货也不通知，自己去查才查到。最差的一次网购！</td>\n",
       "      <td>包装差，送货差</td>\n",
       "      <td>/storage_server/ArchiveData/review_details/dai...</td>\n",
       "      <td>https://www.amazon.cn/dp/B071X46QHB</td>\n",
       "      <td>已确认购买</td>\n",
       "      <td>Amazon</td>\n",
       "    </tr>\n",
       "    <tr>\n",
       "      <th>2</th>\n",
       "      <td>http://www.amazon.cn/gp/customer-reviews/R3L2O...</td>\n",
       "      <td>Nestle 雀巢</td>\n",
       "      <td>雀巢 Nestle 能恩3段 12-36个月幼儿配方奶粉 900g 罐装*6听 整箱装</td>\n",
       "      <td>0.0</td>\n",
       "      <td>B06XVRZDMM</td>\n",
       "      <td>B071X46QHB</td>\n",
       "      <td>2018-01-13T00:00:00</td>\n",
       "      <td>5</td>\n",
       "      <td>发货快，不错，现在更信赖国产奶源！欧美奶源产地并不是都好，国内现在食药监都很严格，还是准备慢...</td>\n",
       "      <td>不错</td>\n",
       "      <td>/storage_server/ArchiveData/review_details/dai...</td>\n",
       "      <td>https://www.amazon.cn/dp/B071X46QHB</td>\n",
       "      <td>已确认购买</td>\n",
       "      <td>Amazon</td>\n",
       "    </tr>\n",
       "  </tbody>\n",
       "</table>\n",
       "</div>"
      ],
      "text/plain": [
       "                                   direct_review_url harvest_brand  \\\n",
       "0  http://www.amazon.cn/gp/customer-reviews/R3VRG...     Nestle 雀巢   \n",
       "1  http://www.amazon.cn/gp/customer-reviews/R2GY8...     Nestle 雀巢   \n",
       "2  http://www.amazon.cn/gp/customer-reviews/R3L2O...     Nestle 雀巢   \n",
       "\n",
       "                   harvest_product_description  parent_review  \\\n",
       "0            雀巢 Nestle 能恩4段 3岁以上儿童配方奶粉 900g 罐装            1.0   \n",
       "1  雀巢 Nestle 能恩3段 12-36个月幼儿配方奶粉 900g 罐装*6听 整箱装            0.0   \n",
       "2  雀巢 Nestle 能恩3段 12-36个月幼儿配方奶粉 900g 罐装*6听 整箱装            0.0   \n",
       "\n",
       "  parent_review_asin retailer_product_code          review_date review_rating  \\\n",
       "0         B003P8OZAK            B003P8OZAK  2018-01-11T00:00:00             4   \n",
       "1         B06XVRZDMM            B071X46QHB  2018-02-10T00:00:00             2   \n",
       "2         B06XVRZDMM            B071X46QHB  2018-01-13T00:00:00             5   \n",
       "\n",
       "                                         review_text       review_title  \\\n",
       "0  都17年末了，还是发的旧包装，最可气的是，有一罐奶粉的塑料盖子也没有了，就那么放进包装箱里，...  有一罐没有塑料盖，直接锡纸做顶盖！   \n",
       "1         包装极差（看下面图片），送货速度龟速，到货也不通知，自己去查才查到。最差的一次网购！            包装差，送货差   \n",
       "2  发货快，不错，现在更信赖国产奶源！欧美奶源产地并不是都好，国内现在食药监都很严格，还是准备慢...                 不错   \n",
       "\n",
       "                                         source_path  \\\n",
       "0  /storage_server/ArchiveData/review_details/dai...   \n",
       "1  /storage_server/ArchiveData/review_details/dai...   \n",
       "2  /storage_server/ArchiveData/review_details/dai...   \n",
       "\n",
       "                                   url verified_purchase   store  \n",
       "0  https://www.amazon.cn/dp/B003P8OZAK             已确认购买  Amazon  \n",
       "1  https://www.amazon.cn/dp/B071X46QHB             已确认购买  Amazon  \n",
       "2  https://www.amazon.cn/dp/B071X46QHB             已确认购买  Amazon  "
      ]
     },
     "execution_count": 413,
     "metadata": {},
     "output_type": "execute_result"
    }
   ],
   "source": [
    "df2.head(3)"
   ]
  },
  {
   "cell_type": "code",
   "execution_count": 439,
   "metadata": {},
   "outputs": [
    {
     "data": {
      "text/plain": [
       "Index(['store', 'direct_review_url', 'harvest_brand',\n",
       "       'harvest_product_description', 'parent_review', 'parent_review_asin',\n",
       "       'retailer_product_code', 'review_date', 'review_rating', 'review_text',\n",
       "       'review_title', 'url', 'verified_purchase'],\n",
       "      dtype='object')"
      ]
     },
     "execution_count": 439,
     "metadata": {},
     "output_type": "execute_result"
    }
   ],
   "source": [
    "# df2.drop('source_path',axis=1)\n",
    "df2.columns"
   ]
  },
  {
   "cell_type": "code",
   "execution_count": 433,
   "metadata": {},
   "outputs": [
    {
     "data": {
      "text/plain": [
       "Index(['store', 'direct_review_url', 'harvest_brand',\n",
       "       'harvest_product_description', 'parent_review', 'parent_review_asin',\n",
       "       'retailer_product_code', 'review_date', 'review_rating', 'review_text',\n",
       "       'review_title', 'url', 'verified_purchase'],\n",
       "      dtype='object')"
      ]
     },
     "execution_count": 433,
     "metadata": {},
     "output_type": "execute_result"
    }
   ],
   "source": [
    "df2.columns"
   ]
  },
  {
   "cell_type": "code",
   "execution_count": 436,
   "metadata": {},
   "outputs": [],
   "source": [
    "df2 = df2[['store', 'direct_review_url', 'harvest_brand', 'harvest_product_description',\n",
    "       'parent_review', 'parent_review_asin', 'retailer_product_code',\n",
    "       'review_date', 'review_rating', 'review_text', 'review_title','url', 'verified_purchase']]"
   ]
  },
  {
   "cell_type": "code",
   "execution_count": 437,
   "metadata": {},
   "outputs": [],
   "source": [
    "df2.to_csv(\"ti_Amazon&Suning&YHD_nestle_Jan.csv\",index=False, sep = \",\", encoding='utf-8')"
   ]
  },
  {
   "cell_type": "code",
   "execution_count": 438,
   "metadata": {},
   "outputs": [
    {
     "data": {
      "text/html": [
       "<div>\n",
       "<style>\n",
       "    .dataframe thead tr:only-child th {\n",
       "        text-align: right;\n",
       "    }\n",
       "\n",
       "    .dataframe thead th {\n",
       "        text-align: left;\n",
       "    }\n",
       "\n",
       "    .dataframe tbody tr th {\n",
       "        vertical-align: top;\n",
       "    }\n",
       "</style>\n",
       "<table border=\"1\" class=\"dataframe\">\n",
       "  <thead>\n",
       "    <tr style=\"text-align: right;\">\n",
       "      <th></th>\n",
       "      <th>store</th>\n",
       "      <th>direct_review_url</th>\n",
       "      <th>harvest_brand</th>\n",
       "      <th>harvest_product_description</th>\n",
       "      <th>parent_review</th>\n",
       "      <th>parent_review_asin</th>\n",
       "      <th>retailer_product_code</th>\n",
       "      <th>review_date</th>\n",
       "      <th>review_rating</th>\n",
       "      <th>review_text</th>\n",
       "      <th>review_title</th>\n",
       "      <th>url</th>\n",
       "      <th>verified_purchase</th>\n",
       "    </tr>\n",
       "  </thead>\n",
       "  <tbody>\n",
       "    <tr>\n",
       "      <th>21763</th>\n",
       "      <td>YHD</td>\n",
       "      <td>NaN</td>\n",
       "      <td>嘉宝（GERBER）</td>\n",
       "      <td>嘉宝(Gerber ) 燕麦营养米粉三段(8个月至36个月适用) 225g</td>\n",
       "      <td>NaN</td>\n",
       "      <td>NaN</td>\n",
       "      <td>255802</td>\n",
       "      <td>2018-02-22T22:40:24</td>\n",
       "      <td>5</td>\n",
       "      <td>。下次再来哦 ！ 店已经收藏了很久，不过是第一次下手。应该说还不错。 第二次来买了，货比我想...</td>\n",
       "      <td>NaN</td>\n",
       "      <td>https://item.yhd.com/255802.html</td>\n",
       "      <td>NaN</td>\n",
       "    </tr>\n",
       "    <tr>\n",
       "      <th>21764</th>\n",
       "      <td>YHD</td>\n",
       "      <td>NaN</td>\n",
       "      <td>嘉宝（GERBER）</td>\n",
       "      <td>嘉宝(Gerber ) 燕麦营养米粉三段(8个月至36个月适用) 225g</td>\n",
       "      <td>NaN</td>\n",
       "      <td>NaN</td>\n",
       "      <td>255802</td>\n",
       "      <td>2018-02-22T22:40:07</td>\n",
       "      <td>5</td>\n",
       "      <td>。下次再来哦 ！ 店已经收藏了很久，不过是第一次下手。应该说还不错。 第二次来买了，货比我想...</td>\n",
       "      <td>NaN</td>\n",
       "      <td>https://item.yhd.com/255802.html</td>\n",
       "      <td>NaN</td>\n",
       "    </tr>\n",
       "    <tr>\n",
       "      <th>21765</th>\n",
       "      <td>YHD</td>\n",
       "      <td>NaN</td>\n",
       "      <td>嘉宝（GERBER）</td>\n",
       "      <td>嘉宝(Gerber ) 燕麦营养米粉三段(8个月至36个月适用) 225g</td>\n",
       "      <td>NaN</td>\n",
       "      <td>NaN</td>\n",
       "      <td>255802</td>\n",
       "      <td>2018-02-22T22:39:40</td>\n",
       "      <td>5</td>\n",
       "      <td>。下次再来哦 ！ 店已经收藏了很久，不过是第一次下手。应该说还不错。 第二次来买了，货比我想...</td>\n",
       "      <td>NaN</td>\n",
       "      <td>https://item.yhd.com/255802.html</td>\n",
       "      <td>NaN</td>\n",
       "    </tr>\n",
       "    <tr>\n",
       "      <th>21766</th>\n",
       "      <td>YHD</td>\n",
       "      <td>NaN</td>\n",
       "      <td>嘉宝（GERBER）</td>\n",
       "      <td>嘉宝(Gerber ) 燕麦营养米粉三段(8个月至36个月适用) 225g</td>\n",
       "      <td>NaN</td>\n",
       "      <td>NaN</td>\n",
       "      <td>255802</td>\n",
       "      <td>2018-02-22T22:15:18</td>\n",
       "      <td>5</td>\n",
       "      <td>好好好好好好好好好好好好好好好好好</td>\n",
       "      <td>NaN</td>\n",
       "      <td>https://item.yhd.com/255802.html</td>\n",
       "      <td>NaN</td>\n",
       "    </tr>\n",
       "    <tr>\n",
       "      <th>21767</th>\n",
       "      <td>YHD</td>\n",
       "      <td>NaN</td>\n",
       "      <td>嘉宝（GERBER）</td>\n",
       "      <td>嘉宝(Gerber ) 燕麦营养米粉三段(8个月至36个月适用) 225g</td>\n",
       "      <td>NaN</td>\n",
       "      <td>NaN</td>\n",
       "      <td>255802</td>\n",
       "      <td>2018-02-22T22:09:45</td>\n",
       "      <td>5</td>\n",
       "      <td>，，，，，，，，，，，，，，，，，，，，，</td>\n",
       "      <td>NaN</td>\n",
       "      <td>https://item.yhd.com/255802.html</td>\n",
       "      <td>NaN</td>\n",
       "    </tr>\n",
       "  </tbody>\n",
       "</table>\n",
       "</div>"
      ],
      "text/plain": [
       "      store direct_review_url harvest_brand  \\\n",
       "21763   YHD               NaN    嘉宝（GERBER）   \n",
       "21764   YHD               NaN    嘉宝（GERBER）   \n",
       "21765   YHD               NaN    嘉宝（GERBER）   \n",
       "21766   YHD               NaN    嘉宝（GERBER）   \n",
       "21767   YHD               NaN    嘉宝（GERBER）   \n",
       "\n",
       "                 harvest_product_description  parent_review  \\\n",
       "21763  嘉宝(Gerber ) 燕麦营养米粉三段(8个月至36个月适用) 225g            NaN   \n",
       "21764  嘉宝(Gerber ) 燕麦营养米粉三段(8个月至36个月适用) 225g            NaN   \n",
       "21765  嘉宝(Gerber ) 燕麦营养米粉三段(8个月至36个月适用) 225g            NaN   \n",
       "21766  嘉宝(Gerber ) 燕麦营养米粉三段(8个月至36个月适用) 225g            NaN   \n",
       "21767  嘉宝(Gerber ) 燕麦营养米粉三段(8个月至36个月适用) 225g            NaN   \n",
       "\n",
       "      parent_review_asin retailer_product_code          review_date  \\\n",
       "21763                NaN                255802  2018-02-22T22:40:24   \n",
       "21764                NaN                255802  2018-02-22T22:40:07   \n",
       "21765                NaN                255802  2018-02-22T22:39:40   \n",
       "21766                NaN                255802  2018-02-22T22:15:18   \n",
       "21767                NaN                255802  2018-02-22T22:09:45   \n",
       "\n",
       "      review_rating                                        review_text  \\\n",
       "21763             5  。下次再来哦 ！ 店已经收藏了很久，不过是第一次下手。应该说还不错。 第二次来买了，货比我想...   \n",
       "21764             5  。下次再来哦 ！ 店已经收藏了很久，不过是第一次下手。应该说还不错。 第二次来买了，货比我想...   \n",
       "21765             5  。下次再来哦 ！ 店已经收藏了很久，不过是第一次下手。应该说还不错。 第二次来买了，货比我想...   \n",
       "21766             5                                  好好好好好好好好好好好好好好好好好   \n",
       "21767             5                              ，，，，，，，，，，，，，，，，，，，，，   \n",
       "\n",
       "      review_title                               url verified_purchase  \n",
       "21763          NaN  https://item.yhd.com/255802.html               NaN  \n",
       "21764          NaN  https://item.yhd.com/255802.html               NaN  \n",
       "21765          NaN  https://item.yhd.com/255802.html               NaN  \n",
       "21766          NaN  https://item.yhd.com/255802.html               NaN  \n",
       "21767          NaN  https://item.yhd.com/255802.html               NaN  "
      ]
     },
     "execution_count": 438,
     "metadata": {},
     "output_type": "execute_result"
    }
   ],
   "source": [
    "df2.tail()"
   ]
  },
  {
   "cell_type": "code",
   "execution_count": 442,
   "metadata": {},
   "outputs": [
    {
     "data": {
      "text/plain": [
       "(21768, 13)"
      ]
     },
     "execution_count": 442,
     "metadata": {},
     "output_type": "execute_result"
    }
   ],
   "source": [
    "df2.shape"
   ]
  },
  {
   "cell_type": "code",
   "execution_count": 443,
   "metadata": {},
   "outputs": [
    {
     "data": {
      "text/plain": [
       "(27185, 12)"
      ]
     },
     "execution_count": 443,
     "metadata": {},
     "output_type": "execute_result"
    }
   ],
   "source": [
    "local.shape"
   ]
  }
 ],
 "metadata": {
  "kernelspec": {
   "display_name": "Python 3",
   "language": "python",
   "name": "python3"
  },
  "language_info": {
   "codemirror_mode": {
    "name": "ipython",
    "version": 3
   },
   "file_extension": ".py",
   "mimetype": "text/x-python",
   "name": "python",
   "nbconvert_exporter": "python",
   "pygments_lexer": "ipython3",
   "version": "3.6.3"
  }
 },
 "nbformat": 4,
 "nbformat_minor": 2
}
