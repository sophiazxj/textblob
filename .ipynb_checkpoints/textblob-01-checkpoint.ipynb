{
 "cells": [
  {
   "cell_type": "markdown",
   "metadata": {},
   "source": [
    "TextBlob is a Python (2 and 3) library for processing textual data. It provides a simple API for diving into common natural language processing (NLP) tasks such as part-of-speech tagging, noun phrase extraction, sentiment analysis, classification, translation, and more.\n",
    "\n",
    "**TextBlob** stands on the giant shoulders of **NLTK** and **pattern**, and plays nicely with both."
   ]
  },
  {
   "cell_type": "code",
   "execution_count": 1,
   "metadata": {
    "collapsed": true
   },
   "outputs": [],
   "source": [
    "from textblob import TextBlob\n",
    "text = '''\n",
    "The titular threat of The Blob has always struck me as the ultimate movie\n",
    "monster: an insatiably hungry, amoeba-like mass able to penetrate\n",
    "virtually any safeguard, capable of--as a doomed doctor chillingly\n",
    "describes it--\"assimilating flesh on contact.\n",
    "Snide comparisons to gelatin be damned, it's a concept with the most\n",
    "devastating of potential consequences, not unlike the grey goo scenario\n",
    "proposed by technological theorists fearful of\n",
    "artificial intelligence run rampant.\n",
    "'''"
   ]
  },
  {
   "cell_type": "code",
   "execution_count": 3,
   "metadata": {},
   "outputs": [
    {
     "data": {
      "text/plain": [
       "[('The', 'DT'),\n",
       " ('titular', 'JJ'),\n",
       " ('threat', 'NN'),\n",
       " ('of', 'IN'),\n",
       " ('The', 'DT'),\n",
       " ('Blob', 'NNP'),\n",
       " ('has', 'VBZ'),\n",
       " ('always', 'RB'),\n",
       " ('struck', 'VBN'),\n",
       " ('me', 'PRP'),\n",
       " ('as', 'IN'),\n",
       " ('the', 'DT'),\n",
       " ('ultimate', 'JJ'),\n",
       " ('movie', 'NN'),\n",
       " ('monster', 'NN'),\n",
       " ('an', 'DT'),\n",
       " ('insatiably', 'RB'),\n",
       " ('hungry', 'JJ'),\n",
       " ('amoeba-like', 'JJ'),\n",
       " ('mass', 'NN'),\n",
       " ('able', 'JJ'),\n",
       " ('to', 'TO'),\n",
       " ('penetrate', 'VB'),\n",
       " ('virtually', 'RB'),\n",
       " ('any', 'DT'),\n",
       " ('safeguard', 'NN'),\n",
       " ('capable', 'JJ'),\n",
       " ('of', 'IN'),\n",
       " ('as', 'IN'),\n",
       " ('a', 'DT'),\n",
       " ('doomed', 'JJ'),\n",
       " ('doctor', 'NN'),\n",
       " ('chillingly', 'RB'),\n",
       " ('describes', 'VBZ'),\n",
       " ('it', 'PRP'),\n",
       " ('assimilating', 'VBG'),\n",
       " ('flesh', 'NN'),\n",
       " ('on', 'IN'),\n",
       " ('contact', 'NN'),\n",
       " ('Snide', 'JJ'),\n",
       " ('comparisons', 'NNS'),\n",
       " ('to', 'TO'),\n",
       " ('gelatin', 'VB'),\n",
       " ('be', 'VB'),\n",
       " ('damned', 'VBN'),\n",
       " ('it', 'PRP'),\n",
       " (\"'s\", 'VBZ'),\n",
       " ('a', 'DT'),\n",
       " ('concept', 'NN'),\n",
       " ('with', 'IN'),\n",
       " ('the', 'DT'),\n",
       " ('most', 'RBS'),\n",
       " ('devastating', 'JJ'),\n",
       " ('of', 'IN'),\n",
       " ('potential', 'JJ'),\n",
       " ('consequences', 'NNS'),\n",
       " ('not', 'RB'),\n",
       " ('unlike', 'IN'),\n",
       " ('the', 'DT'),\n",
       " ('grey', 'NN'),\n",
       " ('goo', 'NN'),\n",
       " ('scenario', 'NN'),\n",
       " ('proposed', 'VBN'),\n",
       " ('by', 'IN'),\n",
       " ('technological', 'JJ'),\n",
       " ('theorists', 'NNS'),\n",
       " ('fearful', 'NN'),\n",
       " ('of', 'IN'),\n",
       " ('artificial', 'JJ'),\n",
       " ('intelligence', 'NN'),\n",
       " ('run', 'NN'),\n",
       " ('rampant', 'NN')]"
      ]
     },
     "execution_count": 3,
     "metadata": {},
     "output_type": "execute_result"
    }
   ],
   "source": [
    "blob = TextBlob(text)\n",
    "blob.tags"
   ]
  },
  {
   "cell_type": "code",
   "execution_count": 4,
   "metadata": {},
   "outputs": [
    {
     "data": {
      "text/plain": [
       "WordList(['titular threat', 'blob', 'ultimate movie monster', 'amoeba-like mass', 'snide', 'potential consequences', 'grey goo scenario', 'technological theorists fearful', 'artificial intelligence run rampant'])"
      ]
     },
     "execution_count": 4,
     "metadata": {},
     "output_type": "execute_result"
    }
   ],
   "source": [
    "blob.noun_phrases"
   ]
  },
  {
   "cell_type": "code",
   "execution_count": 5,
   "metadata": {},
   "outputs": [
    {
     "name": "stdout",
     "output_type": "stream",
     "text": [
      "0.06000000000000001\n",
      "-0.34166666666666673\n"
     ]
    }
   ],
   "source": [
    "for sentence in blob.sentences:\n",
    "    print(sentence.sentiment.polarity)"
   ]
  },
  {
   "cell_type": "code",
   "execution_count": 13,
   "metadata": {},
   "outputs": [
    {
     "data": {
      "text/plain": [
       "TextBlob(\"Blob的名义威胁一直让我成为最终的电影\n",
       "怪物：一个不能容忍的饥饿，阿米巴样的物质能够穿透\n",
       "几乎所有的保障措施，都能成为一个悲观的医生\n",
       "描述它 - “同化接触肉体。\n",
       "Snide比较明胶是该死的，这是一个最多的概念\n",
       "破坏性的潜在后果，不像灰色的情况\n",
       "技术理论家提出的可怕的提议\n",
       "人工智能猖獗。\")"
      ]
     },
     "execution_count": 13,
     "metadata": {},
     "output_type": "execute_result"
    }
   ],
   "source": [
    "blob.translate(to = 'zh-CN')"
   ]
  },
  {
   "cell_type": "markdown",
   "metadata": {},
   "source": [
    "**Language Support for the Phrase-Based Machine Translation Model**\n",
    "\n",
    "Language|ISO-639-1 Code\n",
    "--------|--------------\n",
    "Afrikaans|af\n",
    "Albanian|sq\n",
    "Amharic|am\n",
    "Arabic|ar\n",
    "Armenian|hy\n",
    "Azeerbaijani|az\n",
    "Basque|eu\n",
    "Belarusian|be\n",
    "Bengali|bn\n",
    "Bosnian|bs\n",
    "Bulgarian|bg\n",
    "Catalan|ca\n",
    "Cebuano|ceb (ISO-639-2)\n",
    "Chinese (Simplified)|zh-CN (BCP-47)\n",
    "Chinese (Traditional)|zh-TW (BCP-47)\n",
    "Corsican|co\n",
    "Croatian|hr\n",
    "Czech|cs\n",
    "Danish|da\n",
    "Dutch|nl\n",
    "English|en\n",
    "Esperanto|eo\n",
    "Estonian|et\n",
    "Finnish|fi\n",
    "French|fr\n",
    "Frisian|fy\n",
    "Galician|gl\n",
    "Georgian|ka\n",
    "German|de\n",
    "Greek|el\n",
    "Gujarati|gu\n",
    "Haitian Creole|ht\n",
    "Hausa|ha\n",
    "Hawaiian|haw (ISO-639-2)\n",
    "Hebrew|iw\n",
    "Hindi|hi\n",
    "Hmong|hmn (ISO-639-2)\n",
    "Hungarian|hu\n",
    "Icelandic|is\n",
    "Igbo|ig\n",
    "Indonesian|id\n",
    "Irish|ga\n",
    "Italian|it\n",
    "Japanese|ja\n",
    "Javanese|jw\n",
    "Kannada|kn\n",
    "Kazakh|kk\n",
    "Khmer|km\n",
    "Korean|ko\n",
    "Kurdish|ku\n",
    "Kyrgyz|ky\n",
    "Lao|lo\n",
    "Latin|la\n",
    "Latvian|lv\n",
    "Lithuanian|lt\n",
    "Luxembourgish|lb\n",
    "Macedonian|mk\n",
    "Malagasy|mg\n",
    "Malay|ms\n",
    "Malayalam|ml\n",
    "Maltese|mt\n",
    "Maori|mi\n",
    "Marathi|mr\n",
    "Mongolian|mn\n",
    "Myanmar (Burmese)|my\n",
    "Nepali|ne\n",
    "Norwegian|no\n",
    "Nyanja (Chichewa)|ny\n",
    "Pashto|ps\n",
    "Persian|fa\n",
    "Polish|pl\n",
    "Portuguese (Portugal, Brazil)|pt\n",
    "Punjabi|pa\n",
    "Romanian|ro\n",
    "Russian|ru\n",
    "Samoan|sm\n",
    "Scots Gaelic|gd\n",
    "Serbian|sr\n",
    "Sesotho|st\n",
    "Shona|sn\n",
    "Sindhi|sd\n",
    "Sinhala (Sinhalese)|si\n",
    "Slovak|sk\n",
    "Slovenian|sl\n",
    "Somali|so\n",
    "Spanish|es\n",
    "Sundanese|su\n",
    "Swahili|sw\n",
    "Swedish|sv\n",
    "Tagalog (Filipino)|tl\n",
    "Tajik|tg\n",
    "Tamil|ta\n",
    "Telugu|te\n",
    "Thai|th\n",
    "Turkish|tr\n",
    "Ukrainian|uk\n",
    "Urdu|ur\n",
    "Uzbek|uz\n",
    "Vietnamese|vi\n",
    "Welsh|cy\n",
    "Xhosa|xh\n",
    "Yiddish|yi\n",
    "Yoruba|yo\n",
    "Zulu|zu"
   ]
  },
  {
   "cell_type": "code",
   "execution_count": null,
   "metadata": {
    "collapsed": true
   },
   "outputs": [],
   "source": []
  }
 ],
 "metadata": {
  "kernelspec": {
   "display_name": "Python 3",
   "language": "python",
   "name": "python3"
  },
  "language_info": {
   "codemirror_mode": {
    "name": "ipython",
    "version": 3
   },
   "file_extension": ".py",
   "mimetype": "text/x-python",
   "name": "python",
   "nbconvert_exporter": "python",
   "pygments_lexer": "ipython3",
   "version": "3.6.3"
  }
 },
 "nbformat": 4,
 "nbformat_minor": 2
}
