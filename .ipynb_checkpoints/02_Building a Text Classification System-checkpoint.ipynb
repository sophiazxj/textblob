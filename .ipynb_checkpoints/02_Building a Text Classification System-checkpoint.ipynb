{
 "cells": [
  {
   "cell_type": "markdown",
   "metadata": {},
   "source": [
    "The __textblob.classifiers__ module makes it simple to create custom classifiers.\n",
    "As an example, Let's create a custom sentiment analyzer.\n",
    "\n",
    "### Loading Data and Creating a Classifier\n",
    "First we'll create some training and test data."
   ]
  },
  {
   "cell_type": "code",
   "execution_count": 32,
   "metadata": {
    "collapsed": true
   },
   "outputs": [],
   "source": [
    "train = [('I love this sandwich.', 'pos'),\n",
    " ('this is an amazing place!', 'pos'),\n",
    " ('I feel very good about these beers.', 'pos'),\n",
    " ('this is my best work.', 'pos'),\n",
    " ('what an awesome view', 'pos'),\n",
    " ('I do not like this restaurant', 'neg'),\n",
    " ('I am tired of this stuff.', 'neg'),\n",
    " (\"I can't deal with this\", 'neg'),\n",
    " ('he is my sworn enemy!', 'neg'),\n",
    " ('my boss is horrible.', 'neg')]"
   ]
  },
  {
   "cell_type": "code",
   "execution_count": 5,
   "metadata": {},
   "outputs": [],
   "source": [
    "test = [('the beer was good.', 'pos'),\n",
    " ('I do not enjoy my job', 'neg'),\n",
    " (\"I ain't feeling dandy today.\", 'neg'),\n",
    " ('I feel amazing!', 'pos'),\n",
    " ('Gary is a friend of mine.', 'pos'),\n",
    " (\"I can't believe I'm doing this.\", 'neg')]"
   ]
  },
  {
   "cell_type": "markdown",
   "metadata": {},
   "source": [
    "Create a __Naive Bayes classifier__, passing the training data into the constructor."
   ]
  },
  {
   "cell_type": "code",
   "execution_count": 6,
   "metadata": {
    "collapsed": true
   },
   "outputs": [],
   "source": [
    "from textblob.classifiers import NaiveBayesClassifier"
   ]
  },
  {
   "cell_type": "code",
   "execution_count": 33,
   "metadata": {},
   "outputs": [],
   "source": [
    "cl = NaiveBayesClassifier(train)"
   ]
  },
  {
   "cell_type": "markdown",
   "metadata": {},
   "source": [
    "### Loading data from files\n",
    "You can also load data from common file formats including CSV, JSON, and TSV.\n",
    "\n",
    "CSV files should be formatted like so:\n",
    "```csv\n",
    "I love this sandwich.,pos\n",
    "This is an amazing place!,pos\n",
    "I do not like this restaurant,neg\n",
    "```"
   ]
  },
  {
   "cell_type": "code",
   "execution_count": 40,
   "metadata": {
    "collapsed": true
   },
   "outputs": [],
   "source": [
    "with open(\"files/test_classifier.csv\", \"r\") as fp:\n",
    "    cl = NaiveBayesClassifier(fp, format='csv')"
   ]
  },
  {
   "cell_type": "markdown",
   "metadata": {},
   "source": [
    "### Classifying Text\n",
    "Call the __classify(text)__ method to use the classifier.\n",
    "\n",
    "Use __prob_classify(text)__ method to get the label probability distribution."
   ]
  },
  {
   "cell_type": "code",
   "execution_count": 41,
   "metadata": {},
   "outputs": [
    {
     "data": {
      "text/plain": [
       "'pos'"
      ]
     },
     "execution_count": 41,
     "metadata": {},
     "output_type": "execute_result"
    }
   ],
   "source": [
    "cl.classify(\"This is an amazing library!\")"
   ]
  },
  {
   "cell_type": "code",
   "execution_count": 42,
   "metadata": {},
   "outputs": [
    {
     "data": {
      "text/plain": [
       "'pos'"
      ]
     },
     "execution_count": 42,
     "metadata": {},
     "output_type": "execute_result"
    }
   ],
   "source": [
    "prob_dist = cl.prob_classify(\"This one's a dozzy.\")\n",
    "prob_dist.max()"
   ]
  },
  {
   "cell_type": "code",
   "execution_count": 43,
   "metadata": {},
   "outputs": [
    {
     "data": {
      "text/plain": [
       "0.58"
      ]
     },
     "execution_count": 43,
     "metadata": {},
     "output_type": "execute_result"
    }
   ],
   "source": [
    "round(prob_dist.prob(\"pos\"),2)"
   ]
  },
  {
   "cell_type": "code",
   "execution_count": 44,
   "metadata": {},
   "outputs": [
    {
     "data": {
      "text/plain": [
       "0.42"
      ]
     },
     "execution_count": 44,
     "metadata": {},
     "output_type": "execute_result"
    }
   ],
   "source": [
    "round(prob_dist.prob('neg'),2)"
   ]
  },
  {
   "cell_type": "markdown",
   "metadata": {},
   "source": [
    "### Classifying TextBlobs\n",
    "Another way to classify text is to pass a classifier into the construtor of __TextBlob__ and call its classify() method.\n",
    "\n",
    "__Advantage:__We can classify sentences within a TextBlob."
   ]
  },
  {
   "cell_type": "code",
   "execution_count": 45,
   "metadata": {},
   "outputs": [
    {
     "data": {
      "text/plain": [
       "'pos'"
      ]
     },
     "execution_count": 45,
     "metadata": {},
     "output_type": "execute_result"
    }
   ],
   "source": [
    "from textblob import TextBlob\n",
    "blob = TextBlob(\"The beer is good. But the hangover is horrible.\", classifier = cl)\n",
    "blob.classify()"
   ]
  },
  {
   "cell_type": "code",
   "execution_count": 46,
   "metadata": {},
   "outputs": [
    {
     "name": "stdout",
     "output_type": "stream",
     "text": [
      "The beer is good. | pos\n",
      "But the hangover is horrible. | neg\n"
     ]
    }
   ],
   "source": [
    "for s in blob.sentences:\n",
    "    print(s, \"|\",s.classify())"
   ]
  },
  {
   "cell_type": "markdown",
   "metadata": {},
   "source": [
    "### Evaluating Classifiers\n",
    "To compute the accuracy on our test set, use the __accuracy(test_data)__ method.\n",
    "\n",
    "__Note:__\n",
    "You can also pass in a file object into the accuracy method. The file can be in any of the formats listed in the Loading Data section."
   ]
  },
  {
   "cell_type": "code",
   "execution_count": 47,
   "metadata": {},
   "outputs": [
    {
     "data": {
      "text/plain": [
       "0.8333333333333334"
      ]
     },
     "execution_count": 47,
     "metadata": {},
     "output_type": "execute_result"
    }
   ],
   "source": [
    "cl.accuracy(test)"
   ]
  },
  {
   "cell_type": "markdown",
   "metadata": {},
   "source": [
    "Use the __show_informative_features()__ method to display a listing of the most informative features."
   ]
  },
  {
   "cell_type": "code",
   "execution_count": 57,
   "metadata": {},
   "outputs": [
    {
     "name": "stdout",
     "output_type": "stream",
     "text": [
      "Most Informative Features\n",
      "        contains(friend) = False             neg : pos    =      1.5 : 1.0\n",
      "             contains(I) = True              neg : pos    =      1.3 : 1.0\n",
      "          contains(best) = False             neg : pos    =      1.3 : 1.0\n",
      "            contains(an) = False             neg : pos    =      1.3 : 1.0\n",
      "          contains(this) = True              neg : pos    =      1.3 : 1.0\n"
     ]
    }
   ],
   "source": [
    "cl.show_informative_features(5)"
   ]
  },
  {
   "cell_type": "markdown",
   "metadata": {},
   "source": [
    "### Update Classifiers with New Data\n",
    "Use the __update(new_data)__ method to update a classifier with new training data."
   ]
  },
  {
   "cell_type": "code",
   "execution_count": 49,
   "metadata": {
    "collapsed": true
   },
   "outputs": [],
   "source": [
    "new_data = [('She is my best friend.', 'pos'),\n",
    "           (\"I'm happy to have a new friend.\", 'pos'),\n",
    "           (\"Stay thirsty, my friend.\", 'pos'),\n",
    "           (\"He ain't from around here.\", 'neg')]"
   ]
  },
  {
   "cell_type": "code",
   "execution_count": 50,
   "metadata": {},
   "outputs": [
    {
     "data": {
      "text/plain": [
       "True"
      ]
     },
     "execution_count": 50,
     "metadata": {},
     "output_type": "execute_result"
    }
   ],
   "source": [
    "cl.update(new_data)"
   ]
  },
  {
   "cell_type": "code",
   "execution_count": 51,
   "metadata": {},
   "outputs": [
    {
     "data": {
      "text/plain": [
       "1.0"
      ]
     },
     "execution_count": 51,
     "metadata": {},
     "output_type": "execute_result"
    }
   ],
   "source": [
    "cl.accuracy(test)"
   ]
  },
  {
   "cell_type": "markdown",
   "metadata": {},
   "source": [
    "### Feature Extractors\n",
    "By defualt, the __NaiveBayesClassifier__ uses a simple feature extractor that indicates which words in the training set are contained in a document.\n",
    "\n",
    "For example, the sentence _“I feel happy”_ might have the features __contains(happy): True__ or __contains(angry): False__.\n",
    "\n",
    "You can override this feature extractor by writing your own. A feature extractor is simply a function with __document__ (the text to extract features from) as the first argument. The function may include a second argument, __train_set__ (the training dataset), if necessary.\n",
    "\n",
    "The function should return a dictionary of features for __document__.\n",
    "\n",
    "For example, let’s create a feature extractor that just uses the first and last words of a document as its features."
   ]
  },
  {
   "cell_type": "code",
   "execution_count": 81,
   "metadata": {
    "collapsed": true
   },
   "outputs": [],
   "source": [
    ">>> def end_word_extractor(document):\n",
    "...     tokens = document.split()\n",
    "...     first_word, last_word = tokens[0], tokens[-1]\n",
    "...     feats = {}\n",
    "...     feats[\"first({0})\".format(first_word)] = True\n",
    "...     feats[\"last({0})\".format(last_word)] = False\n",
    "...     return feats\n",
    ">>> features = end_word_extractor(\"I feel happy\")\n",
    ">>> assert features == {'last(happy)': False, 'first(I)': True}"
   ]
  },
  {
   "cell_type": "code",
   "execution_count": 76,
   "metadata": {},
   "outputs": [
    {
     "data": {
      "text/plain": [
       "'pos'"
      ]
     },
     "execution_count": 76,
     "metadata": {},
     "output_type": "execute_result"
    }
   ],
   "source": [
    ">>> cl2 = NaiveBayesClassifier(train, feature_extractor=end_word_extractor)\n",
    ">>> blob = TextBlob(\"I'm excited to try my new classifier.\", classifier=cl2)\n",
    ">>> blob.classify()"
   ]
  }
 ],
 "metadata": {
  "kernelspec": {
   "display_name": "Python 3",
   "language": "python",
   "name": "python3"
  },
  "language_info": {
   "codemirror_mode": {
    "name": "ipython",
    "version": 3
   },
   "file_extension": ".py",
   "mimetype": "text/x-python",
   "name": "python",
   "nbconvert_exporter": "python",
   "pygments_lexer": "ipython3",
   "version": "3.6.3"
  }
 },
 "nbformat": 4,
 "nbformat_minor": 2
}
