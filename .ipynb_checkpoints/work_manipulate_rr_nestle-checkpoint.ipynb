{
 "cells": [
  {
   "cell_type": "code",
   "execution_count": 78,
   "metadata": {
    "collapsed": true
   },
   "outputs": [],
   "source": [
    "import requests\n",
    "from bs4 import BeautifulSoup\n",
    "import pandas as pd\n",
    "import json"
   ]
  },
  {
   "cell_type": "code",
   "execution_count": 79,
   "metadata": {
    "collapsed": true
   },
   "outputs": [],
   "source": [
    "url = 'https://aldcdn.tmall.com/recommend.htm?itemId=549177691667&categoryId=50000852&sellerId=1984394327&shopId=108656262&brandId=242970774&refer=&brandSiteId=0&rn=&appId=03054&isVitual3C=false&isMiao=false&count=12&callback=jsonpAld03054'"
   ]
  },
  {
   "cell_type": "code",
   "execution_count": 132,
   "metadata": {},
   "outputs": [
    {
     "data": {
      "text/plain": [
       "'gbk'"
      ]
     },
     "execution_count": 132,
     "metadata": {},
     "output_type": "execute_result"
    }
   ],
   "source": [
    "content = requests.get(url).text\n",
    "soup = bs(content, \"html.parser\")\n",
    "soup.meta['charset']"
   ]
  },
  {
   "cell_type": "code",
   "execution_count": 81,
   "metadata": {
    "collapsed": true
   },
   "outputs": [],
   "source": [
    "\n",
    "from bs4 import BeautifulSoup as bs\n",
    "import re\n",
    "import requests"
   ]
  },
  {
   "cell_type": "code",
   "execution_count": 82,
   "metadata": {
    "collapsed": true
   },
   "outputs": [],
   "source": [
    "url = \"https://detail.tmall.com/item.htm?spm=a230r.1.14.1.ebb2eb2eGyUw1&id=549177691667&ns=1&abbucket=4\""
   ]
  },
  {
   "cell_type": "code",
   "execution_count": 92,
   "metadata": {},
   "outputs": [
    {
     "name": "stdout",
     "output_type": "stream",
     "text": [
      "None\n",
      "webkit\n",
      "IE=Edge\n",
      "夏季中老年人女装棉麻短袖两件套装宽松大码妈妈装印花夏装上衣\n",
      "欢迎前来淘宝网实力旺铺，选购夏季中老年人女装棉麻短袖两件套装宽松大码妈妈装印花夏装上衣,想了解详情夏季中老年人女装棉麻短袖两件套装宽松大码妈妈装印花夏装上衣，请进入骆华浓旗舰店的骆华浓旗舰店实力旺铺，更多商品任你选购\n",
      "a220o\n",
      "always\n",
      "pageId=598391566;prototypeId=2;siteId=2; shopId=108656262; userid=1984394327;\n"
     ]
    }
   ],
   "source": [
    "html = requests.get(url).text\n",
    "soup = bs(html, 'html.parser')\n",
    "\n",
    "for m in soup.find_all('meta'):\n",
    "    print(m.get('content'))"
   ]
  },
  {
   "cell_type": "markdown",
   "metadata": {},
   "source": [
    "### Study BeautifulSoup"
   ]
  },
  {
   "cell_type": "code",
   "execution_count": 103,
   "metadata": {
    "collapsed": true
   },
   "outputs": [],
   "source": [
    "html_doc = \"\"\"\n",
    "<html><head><title>The Dormouse's story</title></head>\n",
    "<body>\n",
    "<p class=\"title\"><b>The Dormouse's story</b></p>\n",
    "\n",
    "<p class=\"story\">Once upon a time there were three little sisters; and their names were\n",
    "<a href=\"http://example.com/elsie\" class=\"sister\" id=\"link1\">Elsie</a>,\n",
    "<a href=\"http://example.com/lacie\" class=\"sister\" id=\"link2\">Lacie</a> and\n",
    "<a href=\"http://example.com/tillie\" class=\"sister\" id=\"link3\">Tillie</a>;\n",
    "and they lived at the bottom of a well.</p>\n",
    "\n",
    "<p class=\"story\">...</p>\n",
    "\"\"\""
   ]
  },
  {
   "cell_type": "code",
   "execution_count": 105,
   "metadata": {},
   "outputs": [
    {
     "name": "stdout",
     "output_type": "stream",
     "text": [
      "<html>\n",
      " <head>\n",
      "  <title>\n",
      "   The Dormouse's story\n",
      "  </title>\n",
      " </head>\n",
      " <body>\n",
      "  <p class=\"title\">\n",
      "   <b>\n",
      "    The Dormouse's story\n",
      "   </b>\n",
      "  </p>\n",
      "  <p class=\"story\">\n",
      "   Once upon a time there were three little sisters; and their names were\n",
      "   <a class=\"sister\" href=\"http://example.com/elsie\" id=\"link1\">\n",
      "    Elsie\n",
      "   </a>\n",
      "   ,\n",
      "   <a class=\"sister\" href=\"http://example.com/lacie\" id=\"link2\">\n",
      "    Lacie\n",
      "   </a>\n",
      "   and\n",
      "   <a class=\"sister\" href=\"http://example.com/tillie\" id=\"link3\">\n",
      "    Tillie\n",
      "   </a>\n",
      "   ;\n",
      "and they lived at the bottom of a well.\n",
      "  </p>\n",
      "  <p class=\"story\">\n",
      "   ...\n",
      "  </p>\n",
      " </body>\n",
      "</html>\n"
     ]
    }
   ],
   "source": [
    "from bs4 import BeautifulSoup\n",
    "soup = BeautifulSoup(html_doc,\"lxml\")\n",
    "print(soup.prettify())"
   ]
  },
  {
   "cell_type": "code",
   "execution_count": 107,
   "metadata": {},
   "outputs": [
    {
     "data": {
      "text/plain": [
       "<title>The Dormouse's story</title>"
      ]
     },
     "execution_count": 107,
     "metadata": {},
     "output_type": "execute_result"
    }
   ],
   "source": [
    "soup.title"
   ]
  },
  {
   "cell_type": "code",
   "execution_count": 109,
   "metadata": {},
   "outputs": [
    {
     "data": {
      "text/plain": [
       "'title'"
      ]
     },
     "execution_count": 109,
     "metadata": {},
     "output_type": "execute_result"
    }
   ],
   "source": [
    "soup.title.name"
   ]
  },
  {
   "cell_type": "code",
   "execution_count": 110,
   "metadata": {},
   "outputs": [
    {
     "data": {
      "text/plain": [
       "\"The Dormouse's story\""
      ]
     },
     "execution_count": 110,
     "metadata": {},
     "output_type": "execute_result"
    }
   ],
   "source": [
    "soup.title.string"
   ]
  },
  {
   "cell_type": "code",
   "execution_count": 112,
   "metadata": {},
   "outputs": [
    {
     "data": {
      "text/plain": [
       "'head'"
      ]
     },
     "execution_count": 112,
     "metadata": {},
     "output_type": "execute_result"
    }
   ],
   "source": [
    "soup.title.parent.name"
   ]
  },
  {
   "cell_type": "code",
   "execution_count": 118,
   "metadata": {},
   "outputs": [
    {
     "data": {
      "text/plain": [
       "<a class=\"sister\" href=\"http://example.com/tillie\" id=\"link3\">Tillie</a>"
      ]
     },
     "execution_count": 118,
     "metadata": {},
     "output_type": "execute_result"
    }
   ],
   "source": [
    "soup.find(id = 'link3')"
   ]
  },
  {
   "cell_type": "code",
   "execution_count": 122,
   "metadata": {},
   "outputs": [
    {
     "name": "stdout",
     "output_type": "stream",
     "text": [
      "http://example.com/elsie\n",
      "http://example.com/lacie\n",
      "http://example.com/tillie\n"
     ]
    }
   ],
   "source": [
    "# 获取所有链接\n",
    "links = soup.find_all('a')\n",
    "for l in links:\n",
    "    print(l.get('href'))"
   ]
  },
  {
   "cell_type": "code",
   "execution_count": 124,
   "metadata": {},
   "outputs": [
    {
     "name": "stdout",
     "output_type": "stream",
     "text": [
      "The Dormouse's story\n",
      "\n",
      "The Dormouse's story\n",
      "Once upon a time there were three little sisters; and their names were\n",
      "Elsie,\n",
      "Lacie and\n",
      "Tillie;\n",
      "and they lived at the bottom of a well.\n",
      "...\n",
      "\n"
     ]
    }
   ],
   "source": [
    "#获取所有文字内容\n",
    "print(soup.get_text())"
   ]
  },
  {
   "cell_type": "code",
   "execution_count": 136,
   "metadata": {},
   "outputs": [
    {
     "data": {
      "text/plain": [
       "{'class': ['sn-login-info'], 'id': 'login-info'}"
      ]
     },
     "execution_count": 136,
     "metadata": {},
     "output_type": "execute_result"
    }
   ],
   "source": [
    "soup.p.attrs"
   ]
  },
  {
   "cell_type": "code",
   "execution_count": 138,
   "metadata": {},
   "outputs": [
    {
     "data": {
      "text/plain": [
       "'my id'"
      ]
     },
     "execution_count": 138,
     "metadata": {},
     "output_type": "execute_result"
    }
   ],
   "source": [
    "id_soup = BeautifulSoup('<p id=\"my id\"></p>','html.parser')\n",
    "id_soup.p['id']"
   ]
  },
  {
   "cell_type": "code",
   "execution_count": 145,
   "metadata": {},
   "outputs": [
    {
     "data": {
      "text/plain": [
       "['index', 'contents']"
      ]
     },
     "execution_count": 145,
     "metadata": {},
     "output_type": "execute_result"
    }
   ],
   "source": [
    "# lxml文档有多只属性操作\n",
    "rel_soup = BeautifulSoup('<p>Back to the <a rel=\"index\">homepage</a></p>','lxml')\n",
    "rel_soup.a['rel'] = ['index','contents']\n",
    "rel_soup.p\n",
    "rel_soup.a['rel']"
   ]
  },
  {
   "cell_type": "code",
   "execution_count": 149,
   "metadata": {},
   "outputs": [
    {
     "data": {
      "text/plain": [
       "'body strikeout'"
      ]
     },
     "execution_count": 149,
     "metadata": {},
     "output_type": "execute_result"
    }
   ],
   "source": [
    "# xml 文档不存在多值属性\n",
    "xml_soup = BeautifulSoup('<p class=\"body strikeout\"></p>', 'xml')\n",
    "xml_soup.p['class']"
   ]
  },
  {
   "cell_type": "code",
   "execution_count": 152,
   "metadata": {},
   "outputs": [
    {
     "data": {
      "text/plain": [
       "'Hey, buddy. Want to buy a used parser?'"
      ]
     },
     "execution_count": 152,
     "metadata": {},
     "output_type": "execute_result"
    }
   ],
   "source": [
    "markup = \"<b><!--Hey, buddy. Want to buy a used parser?--></b>\"\n",
    "soup = BeautifulSoup(markup,'lxml')\n",
    "comment = soup.b.string\n",
    "comment"
   ]
  },
  {
   "cell_type": "code",
   "execution_count": 156,
   "metadata": {},
   "outputs": [
    {
     "name": "stdout",
     "output_type": "stream",
     "text": [
      "<b>\n",
      " <!--Hey, buddy. Want to buy a used parser?-->\n",
      "</b>\n"
     ]
    }
   ],
   "source": [
    "print(soup.b.prettify())"
   ]
  },
  {
   "cell_type": "code",
   "execution_count": 159,
   "metadata": {},
   "outputs": [
    {
     "name": "stdout",
     "output_type": "stream",
     "text": [
      "<html>\n",
      " <head>\n",
      "  <title>\n",
      "   The Dormouse's story\n",
      "  </title>\n",
      " </head>\n",
      " <body>\n",
      "  <p class=\"title\">\n",
      "   <b>\n",
      "    The Dormouse's story\n",
      "   </b>\n",
      "  </p>\n",
      "  <p class=\"story\">\n",
      "   Once upon a time there were three little sisters; and their names were\n",
      "   <a class=\"sister\" href=\"http://example.com/elsie\" id=\"link1\">\n",
      "    Elsie\n",
      "   </a>\n",
      "   ,\n",
      "   <a class=\"sister\" href=\"http://example.com/lacie\" id=\"link2\">\n",
      "    Lacie\n",
      "   </a>\n",
      "   and\n",
      "   <a class=\"sister\" href=\"http://example.com/tillie\" id=\"link3\">\n",
      "    Tillie\n",
      "   </a>\n",
      "   ;\n",
      "and they lived at the bottom of a well.\n",
      "  </p>\n",
      "  <p class=\"story\">\n",
      "   ...\n",
      "  </p>\n",
      " </body>\n",
      "</html>\n"
     ]
    }
   ],
   "source": [
    "soup = BeautifulSoup(html_doc,\"lxml\")\n",
    "print(soup.prettify())"
   ]
  },
  {
   "cell_type": "code",
   "execution_count": 194,
   "metadata": {},
   "outputs": [
    {
     "name": "stdout",
     "output_type": "stream",
     "text": [
      "<html>\n",
      " <body>\n",
      "  <a>\n",
      "   <b>\n",
      "    text1\n",
      "   </b>\n",
      "   <c>\n",
      "    text2\n",
      "   </c>\n",
      "  </a>\n",
      " </body>\n",
      "</html>\n"
     ]
    }
   ],
   "source": [
    "sibling_soup = BeautifulSoup(\"<a><b>text1</b><c>text2</c></b></a>\",'lxml')\n",
    "print(sibling_soup.prettify())"
   ]
  },
  {
   "cell_type": "code",
   "execution_count": 241,
   "metadata": {},
   "outputs": [
    {
     "name": "stdout",
     "output_type": "stream",
     "text": [
      "html\n",
      "head\n",
      "title\n",
      "body\n",
      "p\n",
      "b\n",
      "p\n",
      "a\n",
      "a\n",
      "a\n",
      "p\n",
      "http://example.com/elsie\n",
      "http://example.com/lacie\n",
      "http://example.com/tillie\n",
      "http://example.com/elsie\n"
     ]
    },
    {
     "data": {
      "text/plain": [
       "[<a class=\"sister\" href=\"http://example.com/elsie\" id=\"link1\">Elsie</a>,\n",
       " <a class=\"sister\" href=\"http://example.com/lacie\" id=\"link2\">Lacie</a>,\n",
       " <a class=\"sister\" href=\"http://example.com/tillie\" id=\"link3\">Tillie</a>]"
      ]
     },
     "execution_count": 241,
     "metadata": {},
     "output_type": "execute_result"
    }
   ],
   "source": [
    "for tag in soup.find_all(True):\n",
    "    print(tag.name)\n",
    "    \n",
    "for l in soup.find_all(class_ = 'sister'):\n",
    "    print(l.get('href'))\n",
    "    \n",
    "for l in soup.find_all(href=re.compile(\"elsie\")):\n",
    "    print(l.get('href'))\n",
    "    \n",
    "#soup.find_all(href=re.compile(\"elsie\"))[0].get('href')\n",
    "\n",
    "data_soup = BeautifulSoup('<div data-foo=\"value\">foo!</div>', 'lxml')\n",
    "data_soup.find_all(attrs = {\"data-foo\":'value'})\n",
    "\n",
    "def has_six_characters(css_class):\n",
    "    return css_class is not None and len(css_class) == 6\n",
    "soup.find_all(class_ = has_six_characters)"
   ]
  },
  {
   "cell_type": "markdown",
   "metadata": {},
   "source": [
    "### Manipulate with RR scraped by Team Indian"
   ]
  },
  {
   "cell_type": "code",
   "execution_count": 205,
   "metadata": {
    "collapsed": true
   },
   "outputs": [],
   "source": [
    "import pandas as pd\n",
    "amazon = pd.read_csv(\"C:/Users/janney.zhang/Desktop/work/projects/Nestle/tickets/t1.cn.adhoc.amazon.india--27580.2018-02-24.v0.csv\",encoding=\"utf-8\")\n",
    "suning = pd.read_csv(\"C:/Users/janney.zhang/Desktop/work/projects/Nestle/tickets/t1.cn.adhoc.Suning.india--27580.2018-02-27.v0.csv\",encoding=\"utf-8\")\n",
    "yihaodian = pd.read_csv(\"C:/Users/janney.zhang/Desktop/work/projects/Nestle/tickets/t1.cn.yhd.reviewtext.adhoc.url.india--27580.2018-02-28.v0.csv\",encoding=\"utf-8\")\n"
   ]
  },
  {
   "cell_type": "code",
   "execution_count": 217,
   "metadata": {},
   "outputs": [
    {
     "name": "stdout",
     "output_type": "stream",
     "text": [
      "amazon shape: 29,25\n",
      " yihaodian shape: 11277,22\n",
      " suning shape: 10462,23\n",
      "\n"
     ]
    }
   ],
   "source": [
    "print('amazon shape: %d,%d\\n'%(amazon.shape[0],amazon.shape[1]),\n",
    "      'yihaodian shape: %d,%d\\n'%(yihaodian.shape[0],yihaodian.shape[1]),\n",
    "      'suning shape: %d,%d\\n'%(suning.shape[0],suning.shape[1]))\n"
   ]
  },
  {
   "cell_type": "code",
   "execution_count": 218,
   "metadata": {},
   "outputs": [
    {
     "data": {
      "text/plain": [
       "Index(['found_helpful', '#comments', 'harvest_brand',\n",
       "       'harvest_product_description', 'publish_time', 'retailer_product_code',\n",
       "       'review_date', 'review_rating', 'review_text', 'review_title',\n",
       "       'top_reviewer_flag', 'upc', 'url', 'verified_purchase', 'vine_voice',\n",
       "       'manufacturer_response', 'manufacturer_response_text', 'parent_review',\n",
       "       'syndicated_from', 'direct_review_url', 'purchase_time', 'user_level',\n",
       "       'variants', 'source_path', 'parent_review_asin'],\n",
       "      dtype='object')"
      ]
     },
     "execution_count": 218,
     "metadata": {},
     "output_type": "execute_result"
    }
   ],
   "source": [
    "amazon.columns"
   ]
  },
  {
   "cell_type": "code",
   "execution_count": 242,
   "metadata": {},
   "outputs": [
    {
     "data": {
      "text/plain": [
       "Index(['found_helpful', '#comments', 'harvest_brand',\n",
       "       'harvest_product_description', 'publish_time', 'retailer_product_code',\n",
       "       'review_date', 'review_rating', 'review_text', 'review_title',\n",
       "       'top_reviewer_flag', 'upc', 'url', 'verified_purchase', 'vine_voice',\n",
       "       'manufacturer_response', 'manufacturer_response_text', 'parent_review',\n",
       "       'syndicated_from', 'direct_review_url', 'purchase_time', 'user_level'],\n",
       "      dtype='object')"
      ]
     },
     "execution_count": 242,
     "metadata": {},
     "output_type": "execute_result"
    }
   ],
   "source": [
    "yihaodian.columns"
   ]
  },
  {
   "cell_type": "code",
   "execution_count": 244,
   "metadata": {},
   "outputs": [
    {
     "data": {
      "text/plain": [
       "Index(['found_helpful', '#comments', 'harvest_brand',\n",
       "       'harvest_product_description', 'publish_time', 'retailer_product_code',\n",
       "       'review_date', 'review_rating', 'review_text', 'review_title',\n",
       "       'top_reviewer_flag', 'upc', 'url', 'verified_purchase', 'vine_voice',\n",
       "       'manufacturer_response', 'manufacturer_response_text', 'parent_review',\n",
       "       'syndicated_from', 'direct_review_url', 'purchase_time', 'user_level',\n",
       "       'variants'],\n",
       "      dtype='object')"
      ]
     },
     "execution_count": 244,
     "metadata": {},
     "output_type": "execute_result"
    }
   ],
   "source": [
    "suning.columns"
   ]
  },
  {
   "cell_type": "code",
   "execution_count": 284,
   "metadata": {},
   "outputs": [
    {
     "data": {
      "text/html": [
       "<div>\n",
       "<style>\n",
       "    .dataframe thead tr:only-child th {\n",
       "        text-align: right;\n",
       "    }\n",
       "\n",
       "    .dataframe thead th {\n",
       "        text-align: left;\n",
       "    }\n",
       "\n",
       "    .dataframe tbody tr th {\n",
       "        vertical-align: top;\n",
       "    }\n",
       "</style>\n",
       "<table border=\"1\" class=\"dataframe\">\n",
       "  <thead>\n",
       "    <tr style=\"text-align: right;\">\n",
       "      <th></th>\n",
       "      <th>source_path</th>\n",
       "      <th>parent_review_asin</th>\n",
       "      <th>retailer_product_code</th>\n",
       "    </tr>\n",
       "  </thead>\n",
       "  <tbody>\n",
       "    <tr>\n",
       "      <th>0</th>\n",
       "      <td>/storage_server/ArchiveData/review_details/dai...</td>\n",
       "      <td>B003P8OZAK</td>\n",
       "      <td>B003P8OZAK</td>\n",
       "    </tr>\n",
       "    <tr>\n",
       "      <th>1</th>\n",
       "      <td>/storage_server/ArchiveData/review_details/dai...</td>\n",
       "      <td>B06XVRZDMM</td>\n",
       "      <td>B071X46QHB</td>\n",
       "    </tr>\n",
       "    <tr>\n",
       "      <th>2</th>\n",
       "      <td>/storage_server/ArchiveData/review_details/dai...</td>\n",
       "      <td>B06XVRZDMM</td>\n",
       "      <td>B071X46QHB</td>\n",
       "    </tr>\n",
       "  </tbody>\n",
       "</table>\n",
       "</div>"
      ],
      "text/plain": [
       "                                         source_path parent_review_asin  \\\n",
       "0  /storage_server/ArchiveData/review_details/dai...         B003P8OZAK   \n",
       "1  /storage_server/ArchiveData/review_details/dai...         B06XVRZDMM   \n",
       "2  /storage_server/ArchiveData/review_details/dai...         B06XVRZDMM   \n",
       "\n",
       "  retailer_product_code  \n",
       "0            B003P8OZAK  \n",
       "1            B071X46QHB  \n",
       "2            B071X46QHB  "
      ]
     },
     "execution_count": 284,
     "metadata": {},
     "output_type": "execute_result"
    }
   ],
   "source": [
    "amazon.head(3)[['source_path', 'parent_review_asin', 'retailer_product_code']]"
   ]
  },
  {
   "cell_type": "code",
   "execution_count": 292,
   "metadata": {},
   "outputs": [
    {
     "data": {
      "text/plain": [
       "(21768, 25)"
      ]
     },
     "execution_count": 292,
     "metadata": {},
     "output_type": "execute_result"
    }
   ],
   "source": [
    "df1 = amazon.append(suning,ignore_index=True)\n",
    "df2 = df1.append(yihaodian, ignore_index=True)\n",
    "df2.shape"
   ]
  },
  {
   "cell_type": "code",
   "execution_count": 305,
   "metadata": {
    "collapsed": true
   },
   "outputs": [],
   "source": [
    "df2.to_csv(\"Amazon_Suning_yhd_TI_adhoc_reviews_nestle_jan.csv\", \n",
    "           header=False, encoding= 'utf-8')"
   ]
  },
  {
   "cell_type": "code",
   "execution_count": 307,
   "metadata": {
    "collapsed": true
   },
   "outputs": [],
   "source": [
    "local = pd.read_excel(\"download_Janney.Nestle.reviews.adhoc.18010_180131.2018_0226_1222.xlsx\",\n",
    "                     encoding = 'utf-8')"
   ]
  },
  {
   "cell_type": "code",
   "execution_count": 309,
   "metadata": {},
   "outputs": [
    {
     "data": {
      "text/plain": [
       "Index(['store', 'sub_store', 'url', 'rpc', 'title', 'review_id',\n",
       "       'creation_date', 'username', 'review_text', 'review_rating',\n",
       "       'variant_1', 'variant_2', 'device', 'job_id', 'download_time'],\n",
       "      dtype='object')"
      ]
     },
     "execution_count": 309,
     "metadata": {},
     "output_type": "execute_result"
    }
   ],
   "source": [
    "local.columns"
   ]
  },
  {
   "cell_type": "code",
   "execution_count": 344,
   "metadata": {
    "collapsed": true
   },
   "outputs": [],
   "source": [
    "import numpy as np\n",
    "\n",
    "local = local.drop(['sub_store','device'],axis=1)\n"
   ]
  },
  {
   "cell_type": "code",
   "execution_count": 345,
   "metadata": {},
   "outputs": [
    {
     "data": {
      "text/plain": [
       "store            28634\n",
       "url              28634\n",
       "rpc              28634\n",
       "title            28634\n",
       "review_id        28634\n",
       "creation_date    28634\n",
       "username         28634\n",
       "review_text      28634\n",
       "review_rating    21141\n",
       "variant_1        20814\n",
       "variant_2         7743\n",
       "job_id           28634\n",
       "download_time    28634\n",
       "dtype: int64"
      ]
     },
     "execution_count": 345,
     "metadata": {},
     "output_type": "execute_result"
    }
   ],
   "source": [
    "local.count()"
   ]
  },
  {
   "cell_type": "code",
   "execution_count": 310,
   "metadata": {},
   "outputs": [
    {
     "data": {
      "text/plain": [
       "Index(['#comments', 'direct_review_url', 'found_helpful', 'harvest_brand',\n",
       "       'harvest_product_description', 'manufacturer_response',\n",
       "       'manufacturer_response_text', 'parent_review', 'parent_review_asin',\n",
       "       'publish_time', 'purchase_time', 'retailer_product_code', 'review_date',\n",
       "       'review_rating', 'review_text', 'review_title', 'source_path',\n",
       "       'syndicated_from', 'top_reviewer_flag', 'upc', 'url', 'user_level',\n",
       "       'variants', 'verified_purchase', 'vine_voice'],\n",
       "      dtype='object')"
      ]
     },
     "execution_count": 310,
     "metadata": {},
     "output_type": "execute_result"
    }
   ],
   "source": [
    "df2.columns"
   ]
  },
  {
   "cell_type": "code",
   "execution_count": 315,
   "metadata": {},
   "outputs": [
    {
     "data": {
      "text/html": [
       "<div>\n",
       "<style>\n",
       "    .dataframe thead tr:only-child th {\n",
       "        text-align: right;\n",
       "    }\n",
       "\n",
       "    .dataframe thead th {\n",
       "        text-align: left;\n",
       "    }\n",
       "\n",
       "    .dataframe tbody tr th {\n",
       "        vertical-align: top;\n",
       "    }\n",
       "</style>\n",
       "<table border=\"1\" class=\"dataframe\">\n",
       "  <thead>\n",
       "    <tr style=\"text-align: right;\">\n",
       "      <th></th>\n",
       "      <th>#comments</th>\n",
       "      <th>direct_review_url</th>\n",
       "      <th>found_helpful</th>\n",
       "      <th>harvest_brand</th>\n",
       "      <th>harvest_product_description</th>\n",
       "      <th>manufacturer_response</th>\n",
       "      <th>manufacturer_response_text</th>\n",
       "      <th>parent_review</th>\n",
       "      <th>parent_review_asin</th>\n",
       "      <th>publish_time</th>\n",
       "      <th>...</th>\n",
       "      <th>review_title</th>\n",
       "      <th>source_path</th>\n",
       "      <th>syndicated_from</th>\n",
       "      <th>top_reviewer_flag</th>\n",
       "      <th>upc</th>\n",
       "      <th>url</th>\n",
       "      <th>user_level</th>\n",
       "      <th>variants</th>\n",
       "      <th>verified_purchase</th>\n",
       "      <th>vine_voice</th>\n",
       "    </tr>\n",
       "  </thead>\n",
       "  <tbody>\n",
       "    <tr>\n",
       "      <th>0</th>\n",
       "      <td>NaN</td>\n",
       "      <td>http://www.amazon.cn/gp/customer-reviews/R3VRG...</td>\n",
       "      <td>NaN</td>\n",
       "      <td>Nestle 雀巢</td>\n",
       "      <td>雀巢 Nestle 能恩4段 3岁以上儿童配方奶粉 900g 罐装</td>\n",
       "      <td>NaN</td>\n",
       "      <td>NaN</td>\n",
       "      <td>1.0</td>\n",
       "      <td>B003P8OZAK</td>\n",
       "      <td>NaN</td>\n",
       "      <td>...</td>\n",
       "      <td>有一罐没有塑料盖，直接锡纸做顶盖！</td>\n",
       "      <td>/storage_server/ArchiveData/review_details/dai...</td>\n",
       "      <td>NaN</td>\n",
       "      <td>NaN</td>\n",
       "      <td>NaN</td>\n",
       "      <td>https://www.amazon.cn/dp/B003P8OZAK</td>\n",
       "      <td>NaN</td>\n",
       "      <td>NaN</td>\n",
       "      <td>已确认购买</td>\n",
       "      <td>NaN</td>\n",
       "    </tr>\n",
       "    <tr>\n",
       "      <th>1</th>\n",
       "      <td>NaN</td>\n",
       "      <td>http://www.amazon.cn/gp/customer-reviews/R2GY8...</td>\n",
       "      <td>NaN</td>\n",
       "      <td>Nestle 雀巢</td>\n",
       "      <td>雀巢 Nestle 能恩3段 12-36个月幼儿配方奶粉 900g 罐装*6听 整箱装</td>\n",
       "      <td>NaN</td>\n",
       "      <td>NaN</td>\n",
       "      <td>0.0</td>\n",
       "      <td>B06XVRZDMM</td>\n",
       "      <td>NaN</td>\n",
       "      <td>...</td>\n",
       "      <td>包装差，送货差</td>\n",
       "      <td>/storage_server/ArchiveData/review_details/dai...</td>\n",
       "      <td>NaN</td>\n",
       "      <td>NaN</td>\n",
       "      <td>NaN</td>\n",
       "      <td>https://www.amazon.cn/dp/B071X46QHB</td>\n",
       "      <td>NaN</td>\n",
       "      <td>NaN</td>\n",
       "      <td>已确认购买</td>\n",
       "      <td>NaN</td>\n",
       "    </tr>\n",
       "    <tr>\n",
       "      <th>2</th>\n",
       "      <td>NaN</td>\n",
       "      <td>http://www.amazon.cn/gp/customer-reviews/R3L2O...</td>\n",
       "      <td>NaN</td>\n",
       "      <td>Nestle 雀巢</td>\n",
       "      <td>雀巢 Nestle 能恩3段 12-36个月幼儿配方奶粉 900g 罐装*6听 整箱装</td>\n",
       "      <td>NaN</td>\n",
       "      <td>NaN</td>\n",
       "      <td>0.0</td>\n",
       "      <td>B06XVRZDMM</td>\n",
       "      <td>NaN</td>\n",
       "      <td>...</td>\n",
       "      <td>不错</td>\n",
       "      <td>/storage_server/ArchiveData/review_details/dai...</td>\n",
       "      <td>NaN</td>\n",
       "      <td>NaN</td>\n",
       "      <td>NaN</td>\n",
       "      <td>https://www.amazon.cn/dp/B071X46QHB</td>\n",
       "      <td>NaN</td>\n",
       "      <td>NaN</td>\n",
       "      <td>已确认购买</td>\n",
       "      <td>NaN</td>\n",
       "    </tr>\n",
       "  </tbody>\n",
       "</table>\n",
       "<p>3 rows × 25 columns</p>\n",
       "</div>"
      ],
      "text/plain": [
       "   #comments                                  direct_review_url  \\\n",
       "0        NaN  http://www.amazon.cn/gp/customer-reviews/R3VRG...   \n",
       "1        NaN  http://www.amazon.cn/gp/customer-reviews/R2GY8...   \n",
       "2        NaN  http://www.amazon.cn/gp/customer-reviews/R3L2O...   \n",
       "\n",
       "   found_helpful harvest_brand                  harvest_product_description  \\\n",
       "0            NaN     Nestle 雀巢            雀巢 Nestle 能恩4段 3岁以上儿童配方奶粉 900g 罐装   \n",
       "1            NaN     Nestle 雀巢  雀巢 Nestle 能恩3段 12-36个月幼儿配方奶粉 900g 罐装*6听 整箱装   \n",
       "2            NaN     Nestle 雀巢  雀巢 Nestle 能恩3段 12-36个月幼儿配方奶粉 900g 罐装*6听 整箱装   \n",
       "\n",
       "   manufacturer_response  manufacturer_response_text  parent_review  \\\n",
       "0                    NaN                         NaN            1.0   \n",
       "1                    NaN                         NaN            0.0   \n",
       "2                    NaN                         NaN            0.0   \n",
       "\n",
       "  parent_review_asin  publish_time     ...           review_title  \\\n",
       "0         B003P8OZAK           NaN     ...      有一罐没有塑料盖，直接锡纸做顶盖！   \n",
       "1         B06XVRZDMM           NaN     ...                包装差，送货差   \n",
       "2         B06XVRZDMM           NaN     ...                     不错   \n",
       "\n",
       "                                         source_path syndicated_from  \\\n",
       "0  /storage_server/ArchiveData/review_details/dai...             NaN   \n",
       "1  /storage_server/ArchiveData/review_details/dai...             NaN   \n",
       "2  /storage_server/ArchiveData/review_details/dai...             NaN   \n",
       "\n",
       "  top_reviewer_flag upc                                  url user_level  \\\n",
       "0               NaN NaN  https://www.amazon.cn/dp/B003P8OZAK        NaN   \n",
       "1               NaN NaN  https://www.amazon.cn/dp/B071X46QHB        NaN   \n",
       "2               NaN NaN  https://www.amazon.cn/dp/B071X46QHB        NaN   \n",
       "\n",
       "   variants  verified_purchase  vine_voice  \n",
       "0       NaN              已确认购买         NaN  \n",
       "1       NaN              已确认购买         NaN  \n",
       "2       NaN              已确认购买         NaN  \n",
       "\n",
       "[3 rows x 25 columns]"
      ]
     },
     "execution_count": 315,
     "metadata": {},
     "output_type": "execute_result"
    }
   ],
   "source": [
    "df2.head(3)"
   ]
  },
  {
   "cell_type": "code",
   "execution_count": 333,
   "metadata": {},
   "outputs": [
    {
     "data": {
      "text/plain": [
       "YHD       11277\n",
       "Suning    10462\n",
       "Amazon       29\n",
       "Name: store, dtype: int64"
      ]
     },
     "execution_count": 333,
     "metadata": {},
     "output_type": "execute_result"
    }
   ],
   "source": [
    "def get_store(url):\n",
    "    if 'amazon' in url:\n",
    "        return 'Amazon'\n",
    "    elif 'suning' in url:\n",
    "        return 'Suning'\n",
    "    elif 'yhd' in url:\n",
    "        return 'YHD'\n",
    "    else:\n",
    "        return None\n",
    "\n",
    "df2['store'] = df2['url'].map(get_store)\n",
    "df2['store']\n",
    "df2.head(3)\n",
    "df2['store'].value_counts()"
   ]
  },
  {
   "cell_type": "code",
   "execution_count": 353,
   "metadata": {},
   "outputs": [
    {
     "data": {
      "text/plain": [
       "#comments                          0\n",
       "direct_review_url                 29\n",
       "found_helpful                      0\n",
       "harvest_brand                  20824\n",
       "harvest_product_description    21768\n",
       "manufacturer_response              0\n",
       "manufacturer_response_text         0\n",
       "parent_review                     29\n",
       "parent_review_asin                29\n",
       "publish_time                       0\n",
       "purchase_time                      0\n",
       "retailer_product_code          21768\n",
       "review_date                    21768\n",
       "review_rating                  21768\n",
       "review_text                    21768\n",
       "review_title                      29\n",
       "source_path                       29\n",
       "syndicated_from                    0\n",
       "top_reviewer_flag                  0\n",
       "upc                                0\n",
       "url                            21768\n",
       "user_level                         0\n",
       "variants                           0\n",
       "verified_purchase                 28\n",
       "vine_voice                         0\n",
       "store                          21768\n",
       "dtype: int64"
      ]
     },
     "execution_count": 353,
     "metadata": {},
     "output_type": "execute_result"
    }
   ],
   "source": [
    "df2.count()"
   ]
  },
  {
   "cell_type": "code",
   "execution_count": 354,
   "metadata": {},
   "outputs": [
    {
     "data": {
      "text/plain": [
       "direct_review_url                 29\n",
       "harvest_brand                  20824\n",
       "harvest_product_description    21768\n",
       "parent_review                     29\n",
       "parent_review_asin                29\n",
       "retailer_product_code          21768\n",
       "review_date                    21768\n",
       "review_rating                  21768\n",
       "review_text                    21768\n",
       "review_title                      29\n",
       "source_path                       29\n",
       "url                            21768\n",
       "verified_purchase                 28\n",
       "store                          21768\n",
       "dtype: int64"
      ]
     },
     "execution_count": 354,
     "metadata": {},
     "output_type": "execute_result"
    }
   ],
   "source": [
    "df2 = df2.drop(['#comments',  'found_helpful',  'manufacturer_response',\n",
    "       'manufacturer_response_text', \n",
    "       'publish_time', 'purchase_time', \n",
    "       'syndicated_from', 'top_reviewer_flag', 'upc',  'user_level',\n",
    "       'variants',  'vine_voice'], axis = 1)\n",
    "df2.count()"
   ]
  },
  {
   "cell_type": "code",
   "execution_count": 358,
   "metadata": {},
   "outputs": [
    {
     "data": {
      "text/plain": [
       "Index(['direct_review_url', 'harvest_brand', 'harvest_product_description',\n",
       "       'parent_review', 'parent_review_asin', 'retailer_product_code',\n",
       "       'review_date', 'review_rating', 'review_text', 'review_title',\n",
       "       'source_path', 'url', 'verified_purchase', 'store'],\n",
       "      dtype='object')"
      ]
     },
     "execution_count": 358,
     "metadata": {},
     "output_type": "execute_result"
    }
   ],
   "source": [
    "df2.columns"
   ]
  },
  {
   "cell_type": "code",
   "execution_count": 437,
   "metadata": {
    "collapsed": true
   },
   "outputs": [],
   "source": [
    "df2.to_csv(\"ti_Amazon&Suning&YHD_nestle_Jan.csv\",index=False, sep = \",\", encoding='utf-8')"
   ]
  },
  {
   "cell_type": "markdown",
   "metadata": {},
   "source": [
    "### Reshape Local scraped review data\n"
   ]
  },
  {
   "cell_type": "code",
   "execution_count": 1,
   "metadata": {},
   "outputs": [
    {
     "data": {
      "text/plain": [
       "Index(['store', 'sub_store', 'url', 'rpc', 'harvest_product_description',\n",
       "       'review_id', 'creation_date', 'username', 'review_text',\n",
       "       'review_rating', 'variant_1', 'variant_2', 'device', 'job_id',\n",
       "       'download_time'],\n",
       "      dtype='object')"
      ]
     },
     "execution_count": 1,
     "metadata": {},
     "output_type": "execute_result"
    }
   ],
   "source": [
    "import pandas as pd\n",
    "local = pd.read_csv(\"download_Janney.Nestle_MOM.reviews.dahoc.180101_180228.2018_0312_1601.xlsx.csv\", encoding = 'utf-8')\n",
    "local.rename(columns={'title':'harvest_product_description'},inplace=True)\n",
    "local.columns"
   ]
  },
  {
   "cell_type": "code",
   "execution_count": 2,
   "metadata": {
    "collapsed": true
   },
   "outputs": [],
   "source": [
    "local = local.drop(['download_time'],axis=1)\n"
   ]
  },
  {
   "cell_type": "code",
   "execution_count": 3,
   "metadata": {},
   "outputs": [
    {
     "data": {
      "text/plain": [
       "(769, 14)"
      ]
     },
     "execution_count": 3,
     "metadata": {},
     "output_type": "execute_result"
    }
   ],
   "source": [
    "local.shape"
   ]
  },
  {
   "cell_type": "code",
   "execution_count": 4,
   "metadata": {
    "collapsed": true
   },
   "outputs": [],
   "source": [
    "local['dup_review'] = local.duplicated(['review_id'])"
   ]
  },
  {
   "cell_type": "code",
   "execution_count": 5,
   "metadata": {},
   "outputs": [
    {
     "data": {
      "text/plain": [
       "(0, 15)"
      ]
     },
     "execution_count": 5,
     "metadata": {},
     "output_type": "execute_result"
    }
   ],
   "source": [
    "local.sort_values('review_id',inplace=True)\n",
    "local[local['dup_review'] == True].shape"
   ]
  },
  {
   "cell_type": "code",
   "execution_count": 6,
   "metadata": {},
   "outputs": [
    {
     "data": {
      "text/plain": [
       "(769, 15)"
      ]
     },
     "execution_count": 6,
     "metadata": {},
     "output_type": "execute_result"
    }
   ],
   "source": [
    "local.drop_duplicates('review_id',inplace=True)\n",
    "local.shape"
   ]
  },
  {
   "cell_type": "code",
   "execution_count": 7,
   "metadata": {},
   "outputs": [
    {
     "data": {
      "text/plain": [
       "Index(['store', 'sub_store', 'url', 'rpc', 'harvest_product_description',\n",
       "       'review_id', 'creation_date', 'username', 'review_text',\n",
       "       'review_rating', 'variant_1', 'variant_2', 'device', 'job_id',\n",
       "       'dup_review'],\n",
       "      dtype='object')"
      ]
     },
     "execution_count": 7,
     "metadata": {},
     "output_type": "execute_result"
    }
   ],
   "source": [
    "local.columns"
   ]
  },
  {
   "cell_type": "code",
   "execution_count": 8,
   "metadata": {
    "scrolled": true
   },
   "outputs": [
    {
     "data": {
      "text/html": [
       "<div>\n",
       "<style>\n",
       "    .dataframe thead tr:only-child th {\n",
       "        text-align: right;\n",
       "    }\n",
       "\n",
       "    .dataframe thead th {\n",
       "        text-align: left;\n",
       "    }\n",
       "\n",
       "    .dataframe tbody tr th {\n",
       "        vertical-align: top;\n",
       "    }\n",
       "</style>\n",
       "<table border=\"1\" class=\"dataframe\">\n",
       "  <thead>\n",
       "    <tr style=\"text-align: right;\">\n",
       "      <th></th>\n",
       "      <th>store</th>\n",
       "      <th>sub_store</th>\n",
       "      <th>url</th>\n",
       "      <th>rpc</th>\n",
       "      <th>harvest_product_description</th>\n",
       "      <th>review_id</th>\n",
       "      <th>creation_date</th>\n",
       "      <th>username</th>\n",
       "      <th>review_text</th>\n",
       "      <th>review_rating</th>\n",
       "      <th>variant_1</th>\n",
       "      <th>variant_2</th>\n",
       "      <th>device</th>\n",
       "      <th>job_id</th>\n",
       "    </tr>\n",
       "  </thead>\n",
       "  <tbody>\n",
       "    <tr>\n",
       "      <th>768</th>\n",
       "      <td>JD</td>\n",
       "      <td>NaN</td>\n",
       "      <td>https://item.jd.com/12295972857.html</td>\n",
       "      <td>12295972857</td>\n",
       "      <td>【沃尔玛】雀巢  雀巢妈妈孕产妇营养配方奶粉 900g 新旧包装随机配送</td>\n",
       "      <td>11121932664</td>\n",
       "      <td>2018-01-01 10:59:46</td>\n",
       "      <td>j***r</td>\n",
       "      <td>第二次买了?老婆很喜欢！</td>\n",
       "      <td>5.0</td>\n",
       "      <td>900g 新旧包装随机配送</td>\n",
       "      <td>NaN</td>\n",
       "      <td>NaN</td>\n",
       "      <td>65398870</td>\n",
       "    </tr>\n",
       "    <tr>\n",
       "      <th>733</th>\n",
       "      <td>JD</td>\n",
       "      <td>NaN</td>\n",
       "      <td>https://item.jd.com/13924713473.html</td>\n",
       "      <td>13924713473</td>\n",
       "      <td>雀巢（NESTLE） 孕产妇/妈妈配方奶粉（孕妇产妇适用）400克 400g*3盒（新包装）</td>\n",
       "      <td>11122726189</td>\n",
       "      <td>2018-01-01 16:35:34</td>\n",
       "      <td>j***h</td>\n",
       "      <td>刚开始喝感觉有股腥味，但后来习惯后感觉还挺喜欢的！</td>\n",
       "      <td>5.0</td>\n",
       "      <td>400g*3盒（新包装）</td>\n",
       "      <td>NaN</td>\n",
       "      <td>NaN</td>\n",
       "      <td>65398868</td>\n",
       "    </tr>\n",
       "    <tr>\n",
       "      <th>756</th>\n",
       "      <td>JD</td>\n",
       "      <td>NaN</td>\n",
       "      <td>https://item.jd.com/13516246556.html</td>\n",
       "      <td>13516246556</td>\n",
       "      <td>雀巢（NESTLE） 孕产妇奶粉 妈妈配方奶粉 （孕妇产妇适用） 900g*2罐</td>\n",
       "      <td>11123352441</td>\n",
       "      <td>2018-01-01 20:42:41</td>\n",
       "      <td>y***7</td>\n",
       "      <td>买了好多次，从怀孕就喝雀巢孕妇奶粉，一直都是信奈你家。</td>\n",
       "      <td>5.0</td>\n",
       "      <td>900g*2罐</td>\n",
       "      <td>NaN</td>\n",
       "      <td>NaN</td>\n",
       "      <td>65398869</td>\n",
       "    </tr>\n",
       "  </tbody>\n",
       "</table>\n",
       "</div>"
      ],
      "text/plain": [
       "    store  sub_store                                   url          rpc  \\\n",
       "768    JD        NaN  https://item.jd.com/12295972857.html  12295972857   \n",
       "733    JD        NaN  https://item.jd.com/13924713473.html  13924713473   \n",
       "756    JD        NaN  https://item.jd.com/13516246556.html  13516246556   \n",
       "\n",
       "                        harvest_product_description    review_id  \\\n",
       "768            【沃尔玛】雀巢  雀巢妈妈孕产妇营养配方奶粉 900g 新旧包装随机配送  11121932664   \n",
       "733  雀巢（NESTLE） 孕产妇/妈妈配方奶粉（孕妇产妇适用）400克 400g*3盒（新包装）  11122726189   \n",
       "756        雀巢（NESTLE） 孕产妇奶粉 妈妈配方奶粉 （孕妇产妇适用） 900g*2罐  11123352441   \n",
       "\n",
       "           creation_date username                  review_text  review_rating  \\\n",
       "768  2018-01-01 10:59:46    j***r                 第二次买了?老婆很喜欢！            5.0   \n",
       "733  2018-01-01 16:35:34    j***h    刚开始喝感觉有股腥味，但后来习惯后感觉还挺喜欢的！            5.0   \n",
       "756  2018-01-01 20:42:41    y***7  买了好多次，从怀孕就喝雀巢孕妇奶粉，一直都是信奈你家。            5.0   \n",
       "\n",
       "         variant_1  variant_2  device    job_id  \n",
       "768  900g 新旧包装随机配送        NaN     NaN  65398870  \n",
       "733   400g*3盒（新包装）        NaN     NaN  65398868  \n",
       "756        900g*2罐        NaN     NaN  65398869  "
      ]
     },
     "execution_count": 8,
     "metadata": {},
     "output_type": "execute_result"
    }
   ],
   "source": [
    "local.drop('dup_review',axis=1,inplace=True)\n",
    "local.head(3)"
   ]
  },
  {
   "cell_type": "code",
   "execution_count": 24,
   "metadata": {
    "collapsed": true
   },
   "outputs": [],
   "source": [
    "local.to_csv(\"local_nestle_MOM_Jan&Feb.csv\", index= False, encoding='utf-8',sep = ',')"
   ]
  },
  {
   "cell_type": "markdown",
   "metadata": {},
   "source": [
    "### Pandas pivot_table"
   ]
  },
  {
   "cell_type": "code",
   "execution_count": 65,
   "metadata": {
    "collapsed": true
   },
   "outputs": [],
   "source": [
    "import pandas as pd\n",
    "import numpy as np"
   ]
  },
  {
   "cell_type": "code",
   "execution_count": 29,
   "metadata": {},
   "outputs": [
    {
     "data": {
      "text/html": [
       "<div>\n",
       "<style>\n",
       "    .dataframe thead tr:only-child th {\n",
       "        text-align: right;\n",
       "    }\n",
       "\n",
       "    .dataframe thead th {\n",
       "        text-align: left;\n",
       "    }\n",
       "\n",
       "    .dataframe tbody tr th {\n",
       "        vertical-align: top;\n",
       "    }\n",
       "</style>\n",
       "<table border=\"1\" class=\"dataframe\">\n",
       "  <thead>\n",
       "    <tr style=\"text-align: right;\">\n",
       "      <th></th>\n",
       "      <th>store</th>\n",
       "      <th>sub_store</th>\n",
       "      <th>url</th>\n",
       "      <th>retailer_product_code</th>\n",
       "      <th>harvest_product_description</th>\n",
       "      <th>review_id</th>\n",
       "      <th>creation_date</th>\n",
       "      <th>username</th>\n",
       "      <th>review_text</th>\n",
       "      <th>review_rating</th>\n",
       "      <th>...</th>\n",
       "      <th>device</th>\n",
       "      <th>job_id</th>\n",
       "      <th>TaggedWords</th>\n",
       "      <th>TaggedTags</th>\n",
       "      <th>Topic</th>\n",
       "      <th>Sentiment</th>\n",
       "      <th>Attribute</th>\n",
       "      <th>SubAttribute</th>\n",
       "      <th>ReviewID</th>\n",
       "      <th>SentiFlag</th>\n",
       "    </tr>\n",
       "  </thead>\n",
       "  <tbody>\n",
       "    <tr>\n",
       "      <th>0</th>\n",
       "      <td>JD</td>\n",
       "      <td>NaN</td>\n",
       "      <td>https://item.jd.com/4713594.html</td>\n",
       "      <td>4713594</td>\n",
       "      <td>雀巢（nestle）能恩 婴儿配方奶粉 1段（0-6个月婴儿适用）400克(新包装）</td>\n",
       "      <td>11269789571</td>\n",
       "      <td>2018-02-28 20:19:47</td>\n",
       "      <td>j***f</td>\n",
       "      <td>不错，是正品，宝宝喝了没有不良反应</td>\n",
       "      <td>5.0</td>\n",
       "      <td>...</td>\n",
       "      <td>NaN</td>\n",
       "      <td>63401967</td>\n",
       "      <td>不错,，,是,正品,，,宝宝,喝,了,没有,不良,反应,</td>\n",
       "      <td>a,wd,vshi,a,wd,n,v,y,v,a,n,</td>\n",
       "      <td>是正品</td>\n",
       "      <td>Pos</td>\n",
       "      <td>Authenticity</td>\n",
       "      <td>NaN</td>\n",
       "      <td>1</td>\n",
       "      <td>True</td>\n",
       "    </tr>\n",
       "    <tr>\n",
       "      <th>1</th>\n",
       "      <td>JD</td>\n",
       "      <td>NaN</td>\n",
       "      <td>https://item.jd.com/4713594.html</td>\n",
       "      <td>4713594</td>\n",
       "      <td>雀巢（nestle）能恩 婴儿配方奶粉 1段（0-6个月婴儿适用）400克(新包装）</td>\n",
       "      <td>11269789571</td>\n",
       "      <td>2018-02-28 20:19:47</td>\n",
       "      <td>j***f</td>\n",
       "      <td>不错，是正品，宝宝喝了没有不良反应</td>\n",
       "      <td>5.0</td>\n",
       "      <td>...</td>\n",
       "      <td>NaN</td>\n",
       "      <td>63401967</td>\n",
       "      <td>不错,，,是,正品,，,宝宝,喝,了,没有,不良,反应,</td>\n",
       "      <td>a,wd,vshi,a,wd,n,v,y,v,a,n,</td>\n",
       "      <td>不错</td>\n",
       "      <td>Pos</td>\n",
       "      <td>整体</td>\n",
       "      <td>NaN</td>\n",
       "      <td>1</td>\n",
       "      <td>True</td>\n",
       "    </tr>\n",
       "  </tbody>\n",
       "</table>\n",
       "<p>2 rows × 22 columns</p>\n",
       "</div>"
      ],
      "text/plain": [
       "  store  sub_store                               url  retailer_product_code  \\\n",
       "0    JD        NaN  https://item.jd.com/4713594.html                4713594   \n",
       "1    JD        NaN  https://item.jd.com/4713594.html                4713594   \n",
       "\n",
       "                  harvest_product_description    review_id  \\\n",
       "0  雀巢（nestle）能恩 婴儿配方奶粉 1段（0-6个月婴儿适用）400克(新包装）  11269789571   \n",
       "1  雀巢（nestle）能恩 婴儿配方奶粉 1段（0-6个月婴儿适用）400克(新包装）  11269789571   \n",
       "\n",
       "         creation_date username        review_text  review_rating    ...     \\\n",
       "0  2018-02-28 20:19:47    j***f  不错，是正品，宝宝喝了没有不良反应            5.0    ...      \n",
       "1  2018-02-28 20:19:47    j***f  不错，是正品，宝宝喝了没有不良反应            5.0    ...      \n",
       "\n",
       "  device    job_id                   TaggedWords                   TaggedTags  \\\n",
       "0    NaN  63401967  不错,，,是,正品,，,宝宝,喝,了,没有,不良,反应,  a,wd,vshi,a,wd,n,v,y,v,a,n,   \n",
       "1    NaN  63401967  不错,，,是,正品,，,宝宝,喝,了,没有,不良,反应,  a,wd,vshi,a,wd,n,v,y,v,a,n,   \n",
       "\n",
       "  Topic Sentiment     Attribute SubAttribute ReviewID SentiFlag  \n",
       "0   是正品       Pos  Authenticity          NaN        1      True  \n",
       "1    不错       Pos            整体          NaN        1      True  \n",
       "\n",
       "[2 rows x 22 columns]"
      ]
     },
     "execution_count": 29,
     "metadata": {},
     "output_type": "execute_result"
    }
   ],
   "source": [
    "df = pd.read_csv('local_Nestle_Feb_step2_threshold_test2.csv', sep=';',\n",
    "                 encoding='utf-8',engine='c',nrows = 700)\n",
    "df.head(2)"
   ]
  },
  {
   "cell_type": "code",
   "execution_count": 30,
   "metadata": {},
   "outputs": [
    {
     "data": {
      "text/plain": [
       "(700, 22)"
      ]
     },
     "execution_count": 30,
     "metadata": {},
     "output_type": "execute_result"
    }
   ],
   "source": [
    "df.shape"
   ]
  },
  {
   "cell_type": "code",
   "execution_count": 42,
   "metadata": {
    "collapsed": true
   },
   "outputs": [],
   "source": [
    "df['Attribute'] = df['Attribute'].replace('整体','General')"
   ]
  },
  {
   "cell_type": "code",
   "execution_count": 53,
   "metadata": {
    "collapsed": true
   },
   "outputs": [],
   "source": [
    "df['Attribute'] = df['Attribute'].replace('Qaulity','Quality')"
   ]
  },
  {
   "cell_type": "code",
   "execution_count": 54,
   "metadata": {},
   "outputs": [
    {
     "data": {
      "text/html": [
       "<div>\n",
       "<style>\n",
       "    .dataframe thead tr:only-child th {\n",
       "        text-align: right;\n",
       "    }\n",
       "\n",
       "    .dataframe thead th {\n",
       "        text-align: left;\n",
       "    }\n",
       "\n",
       "    .dataframe tbody tr th {\n",
       "        vertical-align: top;\n",
       "    }\n",
       "</style>\n",
       "<table border=\"1\" class=\"dataframe\">\n",
       "  <thead>\n",
       "    <tr style=\"text-align: right;\">\n",
       "      <th></th>\n",
       "      <th>store</th>\n",
       "      <th>sub_store</th>\n",
       "      <th>url</th>\n",
       "      <th>retailer_product_code</th>\n",
       "      <th>harvest_product_description</th>\n",
       "      <th>review_id</th>\n",
       "      <th>creation_date</th>\n",
       "      <th>username</th>\n",
       "      <th>review_text</th>\n",
       "      <th>review_rating</th>\n",
       "      <th>...</th>\n",
       "      <th>device</th>\n",
       "      <th>job_id</th>\n",
       "      <th>TaggedWords</th>\n",
       "      <th>TaggedTags</th>\n",
       "      <th>Topic</th>\n",
       "      <th>Sentiment</th>\n",
       "      <th>Attribute</th>\n",
       "      <th>SubAttribute</th>\n",
       "      <th>ReviewID</th>\n",
       "      <th>SentiFlag</th>\n",
       "    </tr>\n",
       "  </thead>\n",
       "  <tbody>\n",
       "    <tr>\n",
       "      <th>0</th>\n",
       "      <td>JD</td>\n",
       "      <td>NaN</td>\n",
       "      <td>https://item.jd.com/4713594.html</td>\n",
       "      <td>4713594</td>\n",
       "      <td>雀巢（nestle）能恩 婴儿配方奶粉 1段（0-6个月婴儿适用）400克(新包装）</td>\n",
       "      <td>11269789571</td>\n",
       "      <td>2018-02-28 20:19:47</td>\n",
       "      <td>j***f</td>\n",
       "      <td>不错，是正品，宝宝喝了没有不良反应</td>\n",
       "      <td>5.0</td>\n",
       "      <td>...</td>\n",
       "      <td>NaN</td>\n",
       "      <td>63401967</td>\n",
       "      <td>不错,，,是,正品,，,宝宝,喝,了,没有,不良,反应,</td>\n",
       "      <td>a,wd,vshi,a,wd,n,v,y,v,a,n,</td>\n",
       "      <td>是正品</td>\n",
       "      <td>Pos</td>\n",
       "      <td>Authenticity</td>\n",
       "      <td>NaN</td>\n",
       "      <td>1</td>\n",
       "      <td>True</td>\n",
       "    </tr>\n",
       "    <tr>\n",
       "      <th>1</th>\n",
       "      <td>JD</td>\n",
       "      <td>NaN</td>\n",
       "      <td>https://item.jd.com/4713594.html</td>\n",
       "      <td>4713594</td>\n",
       "      <td>雀巢（nestle）能恩 婴儿配方奶粉 1段（0-6个月婴儿适用）400克(新包装）</td>\n",
       "      <td>11269789571</td>\n",
       "      <td>2018-02-28 20:19:47</td>\n",
       "      <td>j***f</td>\n",
       "      <td>不错，是正品，宝宝喝了没有不良反应</td>\n",
       "      <td>5.0</td>\n",
       "      <td>...</td>\n",
       "      <td>NaN</td>\n",
       "      <td>63401967</td>\n",
       "      <td>不错,，,是,正品,，,宝宝,喝,了,没有,不良,反应,</td>\n",
       "      <td>a,wd,vshi,a,wd,n,v,y,v,a,n,</td>\n",
       "      <td>不错</td>\n",
       "      <td>Pos</td>\n",
       "      <td>General</td>\n",
       "      <td>NaN</td>\n",
       "      <td>1</td>\n",
       "      <td>True</td>\n",
       "    </tr>\n",
       "    <tr>\n",
       "      <th>2</th>\n",
       "      <td>JD</td>\n",
       "      <td>NaN</td>\n",
       "      <td>https://item.jd.com/4713594.html</td>\n",
       "      <td>4713594</td>\n",
       "      <td>雀巢（nestle）能恩 婴儿配方奶粉 1段（0-6个月婴儿适用）400克(新包装）</td>\n",
       "      <td>11269672569</td>\n",
       "      <td>2018-02-28 19:38:58</td>\n",
       "      <td>熊***咚</td>\n",
       "      <td>快递挺快，就是包装压坏了。</td>\n",
       "      <td>5.0</td>\n",
       "      <td>...</td>\n",
       "      <td>NaN</td>\n",
       "      <td>63401967</td>\n",
       "      <td>快递,挺,快,，,就,是,包装,压,坏,了,。,</td>\n",
       "      <td>n,d,a,wd,d,vshi,n,v,a,y,wj,</td>\n",
       "      <td>就是包装压坏了</td>\n",
       "      <td>Neg</td>\n",
       "      <td>Package</td>\n",
       "      <td>Logistic Package</td>\n",
       "      <td>2</td>\n",
       "      <td>True</td>\n",
       "    </tr>\n",
       "    <tr>\n",
       "      <th>3</th>\n",
       "      <td>JD</td>\n",
       "      <td>NaN</td>\n",
       "      <td>https://item.jd.com/4713594.html</td>\n",
       "      <td>4713594</td>\n",
       "      <td>雀巢（nestle）能恩 婴儿配方奶粉 1段（0-6个月婴儿适用）400克(新包装）</td>\n",
       "      <td>11269672569</td>\n",
       "      <td>2018-02-28 19:38:58</td>\n",
       "      <td>熊***咚</td>\n",
       "      <td>快递挺快，就是包装压坏了。</td>\n",
       "      <td>5.0</td>\n",
       "      <td>...</td>\n",
       "      <td>NaN</td>\n",
       "      <td>63401967</td>\n",
       "      <td>快递,挺,快,，,就,是,包装,压,坏,了,。,</td>\n",
       "      <td>n,d,a,wd,d,vshi,n,v,a,y,wj,</td>\n",
       "      <td>快递挺快</td>\n",
       "      <td>Pos</td>\n",
       "      <td>Service</td>\n",
       "      <td>Logistic Speed</td>\n",
       "      <td>2</td>\n",
       "      <td>True</td>\n",
       "    </tr>\n",
       "    <tr>\n",
       "      <th>4</th>\n",
       "      <td>JD</td>\n",
       "      <td>NaN</td>\n",
       "      <td>https://item.jd.com/4713594.html</td>\n",
       "      <td>4713594</td>\n",
       "      <td>雀巢（nestle）能恩 婴儿配方奶粉 1段（0-6个月婴儿适用）400克(新包装）</td>\n",
       "      <td>11269406522</td>\n",
       "      <td>2018-02-28 17:58:52</td>\n",
       "      <td>j***o</td>\n",
       "      <td>一直在京东吗  还是比较可以</td>\n",
       "      <td>5.0</td>\n",
       "      <td>...</td>\n",
       "      <td>NaN</td>\n",
       "      <td>63401967</td>\n",
       "      <td>一直,在,京东,，,还是,比较,可以,</td>\n",
       "      <td>d,p,ns,wd,d,d,v,</td>\n",
       "      <td>还是比较可以</td>\n",
       "      <td>NaN</td>\n",
       "      <td>General</td>\n",
       "      <td>NaN</td>\n",
       "      <td>3</td>\n",
       "      <td>NaN</td>\n",
       "    </tr>\n",
       "  </tbody>\n",
       "</table>\n",
       "<p>5 rows × 22 columns</p>\n",
       "</div>"
      ],
      "text/plain": [
       "  store  sub_store                               url  retailer_product_code  \\\n",
       "0    JD        NaN  https://item.jd.com/4713594.html                4713594   \n",
       "1    JD        NaN  https://item.jd.com/4713594.html                4713594   \n",
       "2    JD        NaN  https://item.jd.com/4713594.html                4713594   \n",
       "3    JD        NaN  https://item.jd.com/4713594.html                4713594   \n",
       "4    JD        NaN  https://item.jd.com/4713594.html                4713594   \n",
       "\n",
       "                  harvest_product_description    review_id  \\\n",
       "0  雀巢（nestle）能恩 婴儿配方奶粉 1段（0-6个月婴儿适用）400克(新包装）  11269789571   \n",
       "1  雀巢（nestle）能恩 婴儿配方奶粉 1段（0-6个月婴儿适用）400克(新包装）  11269789571   \n",
       "2  雀巢（nestle）能恩 婴儿配方奶粉 1段（0-6个月婴儿适用）400克(新包装）  11269672569   \n",
       "3  雀巢（nestle）能恩 婴儿配方奶粉 1段（0-6个月婴儿适用）400克(新包装）  11269672569   \n",
       "4  雀巢（nestle）能恩 婴儿配方奶粉 1段（0-6个月婴儿适用）400克(新包装）  11269406522   \n",
       "\n",
       "         creation_date username        review_text  review_rating    ...     \\\n",
       "0  2018-02-28 20:19:47    j***f  不错，是正品，宝宝喝了没有不良反应            5.0    ...      \n",
       "1  2018-02-28 20:19:47    j***f  不错，是正品，宝宝喝了没有不良反应            5.0    ...      \n",
       "2  2018-02-28 19:38:58    熊***咚      快递挺快，就是包装压坏了。            5.0    ...      \n",
       "3  2018-02-28 19:38:58    熊***咚      快递挺快，就是包装压坏了。            5.0    ...      \n",
       "4  2018-02-28 17:58:52    j***o     一直在京东吗  还是比较可以            5.0    ...      \n",
       "\n",
       "  device    job_id                   TaggedWords                   TaggedTags  \\\n",
       "0    NaN  63401967  不错,，,是,正品,，,宝宝,喝,了,没有,不良,反应,  a,wd,vshi,a,wd,n,v,y,v,a,n,   \n",
       "1    NaN  63401967  不错,，,是,正品,，,宝宝,喝,了,没有,不良,反应,  a,wd,vshi,a,wd,n,v,y,v,a,n,   \n",
       "2    NaN  63401967      快递,挺,快,，,就,是,包装,压,坏,了,。,  n,d,a,wd,d,vshi,n,v,a,y,wj,   \n",
       "3    NaN  63401967      快递,挺,快,，,就,是,包装,压,坏,了,。,  n,d,a,wd,d,vshi,n,v,a,y,wj,   \n",
       "4    NaN  63401967           一直,在,京东,，,还是,比较,可以,             d,p,ns,wd,d,d,v,   \n",
       "\n",
       "     Topic Sentiment     Attribute      SubAttribute ReviewID SentiFlag  \n",
       "0      是正品       Pos  Authenticity               NaN        1      True  \n",
       "1       不错       Pos       General               NaN        1      True  \n",
       "2  就是包装压坏了       Neg       Package  Logistic Package        2      True  \n",
       "3     快递挺快       Pos       Service    Logistic Speed        2      True  \n",
       "4   还是比较可以       NaN       General               NaN        3       NaN  \n",
       "\n",
       "[5 rows x 22 columns]"
      ]
     },
     "execution_count": 54,
     "metadata": {},
     "output_type": "execute_result"
    }
   ],
   "source": [
    "df.head()"
   ]
  },
  {
   "cell_type": "code",
   "execution_count": 44,
   "metadata": {
    "collapsed": true
   },
   "outputs": [],
   "source": [
    "df['Topic'] = df['Topic'].astype('category')"
   ]
  },
  {
   "cell_type": "code",
   "execution_count": 71,
   "metadata": {
    "collapsed": true
   },
   "outputs": [],
   "source": [
    "df['Sentiment'] = df['Sentiment'].astype('category')\n",
    "df['Sentiment'].cat.set_categories(['Pos','Neg',''], inplace = True)"
   ]
  },
  {
   "cell_type": "code",
   "execution_count": 72,
   "metadata": {},
   "outputs": [
    {
     "data": {
      "text/plain": [
       "Index(['store', 'sub_store', 'url', 'retailer_product_code',\n",
       "       'harvest_product_description', 'review_id', 'creation_date', 'username',\n",
       "       'review_text', 'review_rating', 'variant_1', 'variant_2', 'device',\n",
       "       'job_id', 'TaggedWords', 'TaggedTags', 'Topic', 'Sentiment',\n",
       "       'Attribute', 'SubAttribute', 'ReviewID', 'SentiFlag'],\n",
       "      dtype='object')"
      ]
     },
     "execution_count": 72,
     "metadata": {},
     "output_type": "execute_result"
    }
   ],
   "source": [
    "df.columns"
   ]
  },
  {
   "cell_type": "code",
   "execution_count": 95,
   "metadata": {},
   "outputs": [
    {
     "data": {
      "text/html": [
       "<div>\n",
       "<style>\n",
       "    .dataframe thead tr:only-child th {\n",
       "        text-align: right;\n",
       "    }\n",
       "\n",
       "    .dataframe thead th {\n",
       "        text-align: left;\n",
       "    }\n",
       "\n",
       "    .dataframe tbody tr th {\n",
       "        vertical-align: top;\n",
       "    }\n",
       "</style>\n",
       "<table border=\"1\" class=\"dataframe\">\n",
       "  <thead>\n",
       "    <tr>\n",
       "      <th></th>\n",
       "      <th></th>\n",
       "      <th colspan=\"2\" halign=\"left\">review_rating</th>\n",
       "    </tr>\n",
       "    <tr>\n",
       "      <th></th>\n",
       "      <th></th>\n",
       "      <th>mean</th>\n",
       "      <th>sum</th>\n",
       "    </tr>\n",
       "    <tr>\n",
       "      <th>Attribute</th>\n",
       "      <th>SubAttribute</th>\n",
       "      <th></th>\n",
       "      <th></th>\n",
       "    </tr>\n",
       "  </thead>\n",
       "  <tbody>\n",
       "    <tr>\n",
       "      <th rowspan=\"2\" valign=\"top\">Efficacy</th>\n",
       "      <th>Affinity</th>\n",
       "      <td>5.000000</td>\n",
       "      <td>40.0</td>\n",
       "    </tr>\n",
       "    <tr>\n",
       "      <th>Digestion</th>\n",
       "      <td>5.000000</td>\n",
       "      <td>20.0</td>\n",
       "    </tr>\n",
       "    <tr>\n",
       "      <th rowspan=\"3\" valign=\"top\">Package</th>\n",
       "      <th>Logistic Package</th>\n",
       "      <td>4.428571</td>\n",
       "      <td>62.0</td>\n",
       "    </tr>\n",
       "    <tr>\n",
       "      <th>Parts</th>\n",
       "      <td>5.000000</td>\n",
       "      <td>25.0</td>\n",
       "    </tr>\n",
       "    <tr>\n",
       "      <th>Product Package</th>\n",
       "      <td>5.000000</td>\n",
       "      <td>20.0</td>\n",
       "    </tr>\n",
       "    <tr>\n",
       "      <th rowspan=\"2\" valign=\"top\">Price</th>\n",
       "      <th>Price</th>\n",
       "      <td>5.000000</td>\n",
       "      <td>195.0</td>\n",
       "    </tr>\n",
       "    <tr>\n",
       "      <th>Promotion</th>\n",
       "      <td>5.000000</td>\n",
       "      <td>10.0</td>\n",
       "    </tr>\n",
       "    <tr>\n",
       "      <th rowspan=\"6\" valign=\"top\">Quality</th>\n",
       "      <th>Freshness</th>\n",
       "      <td>5.000000</td>\n",
       "      <td>55.0</td>\n",
       "    </tr>\n",
       "    <tr>\n",
       "      <th>General</th>\n",
       "      <td>5.000000</td>\n",
       "      <td>50.0</td>\n",
       "    </tr>\n",
       "    <tr>\n",
       "      <th>Nutrient Content</th>\n",
       "      <td>5.000000</td>\n",
       "      <td>10.0</td>\n",
       "    </tr>\n",
       "    <tr>\n",
       "      <th>Sensation</th>\n",
       "      <td>5.000000</td>\n",
       "      <td>115.0</td>\n",
       "    </tr>\n",
       "    <tr>\n",
       "      <th>Solubility</th>\n",
       "      <td>4.500000</td>\n",
       "      <td>9.0</td>\n",
       "    </tr>\n",
       "    <tr>\n",
       "      <th>Viscosity</th>\n",
       "      <td>5.000000</td>\n",
       "      <td>5.0</td>\n",
       "    </tr>\n",
       "    <tr>\n",
       "      <th rowspan=\"2\" valign=\"top\">Service</th>\n",
       "      <th>Customer Service</th>\n",
       "      <td>5.000000</td>\n",
       "      <td>40.0</td>\n",
       "    </tr>\n",
       "    <tr>\n",
       "      <th>Logistic Speed</th>\n",
       "      <td>5.000000</td>\n",
       "      <td>235.0</td>\n",
       "    </tr>\n",
       "    <tr>\n",
       "      <th rowspan=\"5\" valign=\"top\">Side Effect</th>\n",
       "      <th>Constipation</th>\n",
       "      <td>5.000000</td>\n",
       "      <td>5.0</td>\n",
       "    </tr>\n",
       "    <tr>\n",
       "      <th>Excessive Internal Heat</th>\n",
       "      <td>5.000000</td>\n",
       "      <td>20.0</td>\n",
       "    </tr>\n",
       "    <tr>\n",
       "      <th>General</th>\n",
       "      <td>5.000000</td>\n",
       "      <td>15.0</td>\n",
       "    </tr>\n",
       "    <tr>\n",
       "      <th>Green Poop</th>\n",
       "      <td>5.000000</td>\n",
       "      <td>15.0</td>\n",
       "    </tr>\n",
       "    <tr>\n",
       "      <th>Milk Spit</th>\n",
       "      <td>5.000000</td>\n",
       "      <td>5.0</td>\n",
       "    </tr>\n",
       "  </tbody>\n",
       "</table>\n",
       "</div>"
      ],
      "text/plain": [
       "                                    review_rating       \n",
       "                                             mean    sum\n",
       "Attribute   SubAttribute                                \n",
       "Efficacy    Affinity                     5.000000   40.0\n",
       "            Digestion                    5.000000   20.0\n",
       "Package     Logistic Package             4.428571   62.0\n",
       "            Parts                        5.000000   25.0\n",
       "            Product Package              5.000000   20.0\n",
       "Price       Price                        5.000000  195.0\n",
       "            Promotion                    5.000000   10.0\n",
       "Quality     Freshness                    5.000000   55.0\n",
       "            General                      5.000000   50.0\n",
       "            Nutrient Content             5.000000   10.0\n",
       "            Sensation                    5.000000  115.0\n",
       "            Solubility                   4.500000    9.0\n",
       "            Viscosity                    5.000000    5.0\n",
       "Service     Customer Service             5.000000   40.0\n",
       "            Logistic Speed               5.000000  235.0\n",
       "Side Effect Constipation                 5.000000    5.0\n",
       "            Excessive Internal Heat      5.000000   20.0\n",
       "            General                      5.000000   15.0\n",
       "            Green Poop                   5.000000   15.0\n",
       "            Milk Spit                    5.000000    5.0"
      ]
     },
     "execution_count": 95,
     "metadata": {},
     "output_type": "execute_result"
    }
   ],
   "source": [
    "df.pivot_table(index=['Attribute','SubAttribute'], \n",
    "               values=['review_rating'], aggfunc = {'review_rating':[np.sum,np.mean]})"
   ]
  },
  {
   "cell_type": "code",
   "execution_count": 82,
   "metadata": {},
   "outputs": [
    {
     "data": {
      "text/plain": [
       "Pos    365\n",
       "Neg     24\n",
       "         0\n",
       "Name: Sentiment, dtype: int64"
      ]
     },
     "execution_count": 82,
     "metadata": {},
     "output_type": "execute_result"
    }
   ],
   "source": [
    "df['Sentiment'].value_counts()"
   ]
  },
  {
   "cell_type": "code",
   "execution_count": 97,
   "metadata": {
    "collapsed": true
   },
   "outputs": [],
   "source": [
    "from sklearn import datasets, linear_model"
   ]
  },
  {
   "cell_type": "markdown",
   "metadata": {},
   "source": [
    "### Filter Data for Karen\n",
    "\n",
    "Strip one week of raw data for karen to do test research."
   ]
  },
  {
   "cell_type": "code",
   "execution_count": 101,
   "metadata": {
    "collapsed": true
   },
   "outputs": [],
   "source": [
    "import pandas as pd"
   ]
  },
  {
   "cell_type": "code",
   "execution_count": 102,
   "metadata": {
    "collapsed": true
   },
   "outputs": [],
   "source": [
    "ti = pd.read_csv('ti_Amazon_Suning_YHD_nestle_Jan.csv', encoding= 'utf-8')\n",
    "local = pd.read_csv('local_nestle_JD_Tmall_Jan.csv', encoding= 'utf-8')"
   ]
  },
  {
   "cell_type": "code",
   "execution_count": 154,
   "metadata": {
    "collapsed": true
   },
   "outputs": [],
   "source": [
    "clms = ['product_description',\n",
    "'Brand',\n",
    "'Stage',\n",
    "'rpc',\n",
    "'review_rating',\n",
    "'url',\n",
    "'Store',\n",
    "'Sub-store',\n",
    "'review_date',\n",
    "'Month',\n",
    "'review_text',\n",
    "'Deep',\n",
    "'ReviewID']"
   ]
  },
  {
   "cell_type": "code",
   "execution_count": 111,
   "metadata": {
    "collapsed": true
   },
   "outputs": [],
   "source": [
    "ti.rename(inplace=True, columns={'store':'Store','retailer_product_code':'rpc','harvest_product_description':'product_description'})"
   ]
  },
  {
   "cell_type": "code",
   "execution_count": 126,
   "metadata": {
    "collapsed": true
   },
   "outputs": [],
   "source": [
    "local.rename(inplace= True, columns={'store':'Store','harvest_product_description':'product_description','retailer_product_code':'rpc','creation_date':'review_date','job_id':'ReviewID'})"
   ]
  },
  {
   "cell_type": "code",
   "execution_count": 133,
   "metadata": {
    "scrolled": true
   },
   "outputs": [
    {
     "data": {
      "text/plain": [
       "16"
      ]
     },
     "execution_count": 133,
     "metadata": {},
     "output_type": "execute_result"
    }
   ],
   "source": [
    "local['Brand'] = \"\"\n",
    "local['Stage'] = \"\"\n",
    "local['Month'] = \"\"\n",
    "local['Deep'] = \"\"\n",
    "len(local.columns)"
   ]
  },
  {
   "cell_type": "code",
   "execution_count": 140,
   "metadata": {
    "collapsed": true
   },
   "outputs": [],
   "source": [
    "ti.drop(['direct_review_url'], inplace= True, axis= 1)"
   ]
  },
  {
   "cell_type": "code",
   "execution_count": 144,
   "metadata": {
    "scrolled": true
   },
   "outputs": [
    {
     "data": {
      "text/plain": [
       "Index(['Brand', 'Deep', 'Month', 'ReviewID', 'Stage', 'Store', 'harvest_brand',\n",
       "       'parent_review', 'parent_review_asin', 'product_description',\n",
       "       'review_date', 'review_id', 'review_rating', 'review_text',\n",
       "       'review_title', 'rpc', 'url', 'username', 'variant_1', 'variant_2',\n",
       "       'verified_purchase'],\n",
       "      dtype='object')"
      ]
     },
     "execution_count": 144,
     "metadata": {},
     "output_type": "execute_result"
    }
   ],
   "source": [
    "total = pd.concat([ti,local])\n",
    "total.columns"
   ]
  },
  {
   "cell_type": "code",
   "execution_count": 146,
   "metadata": {},
   "outputs": [
    {
     "data": {
      "text/plain": [
       "6161"
      ]
     },
     "execution_count": 146,
     "metadata": {},
     "output_type": "execute_result"
    }
   ],
   "source": [
    "total_1w = total[total['review_date'] < '2018-01-08']\n",
    "len(total_1w)"
   ]
  },
  {
   "cell_type": "code",
   "execution_count": 155,
   "metadata": {
    "collapsed": true
   },
   "outputs": [],
   "source": [
    "total_1w = total_1w[clms]"
   ]
  },
  {
   "cell_type": "code",
   "execution_count": 157,
   "metadata": {
    "collapsed": true
   },
   "outputs": [],
   "source": [
    "total_1w.to_csv('raw_review_1week.csv', index = False, encoding='utf-8')"
   ]
  },
  {
   "cell_type": "markdown",
   "metadata": {},
   "source": [
    "__ Dec Raw review of nestle__"
   ]
  },
  {
   "cell_type": "code",
   "execution_count": 158,
   "metadata": {
    "collapsed": true
   },
   "outputs": [],
   "source": [
    "dec = pd.read_excel('12ttl.xlsx')"
   ]
  },
  {
   "cell_type": "code",
   "execution_count": 160,
   "metadata": {},
   "outputs": [
    {
     "data": {
      "text/plain": [
       "Index(['store', 'harvest_product_description', 'publish_time',\n",
       "       'retailer_product_code', 'review_date', 'review_rating', 'review_text',\n",
       "       'review_title', 'url'],\n",
       "      dtype='object')"
      ]
     },
     "execution_count": 160,
     "metadata": {},
     "output_type": "execute_result"
    }
   ],
   "source": [
    "dec.columns"
   ]
  },
  {
   "cell_type": "code",
   "execution_count": 161,
   "metadata": {},
   "outputs": [
    {
     "data": {
      "text/plain": [
       "Index(['Store', 'product_description', 'publish_time', 'rpc', 'review_date',\n",
       "       'review_rating', 'review_text', 'review_title', 'url'],\n",
       "      dtype='object')"
      ]
     },
     "execution_count": 161,
     "metadata": {},
     "output_type": "execute_result"
    }
   ],
   "source": [
    "dec.rename(inplace=True, columns={'store':'Store','harvest_product_description':'product_description','retailer_product_code':'rpc'})\n",
    "dec.columns"
   ]
  },
  {
   "cell_type": "code",
   "execution_count": 163,
   "metadata": {},
   "outputs": [
    {
     "data": {
      "text/plain": [
       "['product_description',\n",
       " 'Brand',\n",
       " 'Stage',\n",
       " 'rpc',\n",
       " 'review_rating',\n",
       " 'url',\n",
       " 'Store',\n",
       " 'Sub-store',\n",
       " 'review_date',\n",
       " 'Month',\n",
       " 'review_text',\n",
       " 'Deep',\n",
       " 'ReviewID']"
      ]
     },
     "execution_count": 163,
     "metadata": {},
     "output_type": "execute_result"
    }
   ],
   "source": [
    "clms = ['product_description','Brand','Stage','rpc','review_rating','url','Store','Sub-store','review_date','Month','review_text','Deep','ReviewID']\n",
    "clms"
   ]
  },
  {
   "cell_type": "code",
   "execution_count": 180,
   "metadata": {
    "collapsed": true
   },
   "outputs": [],
   "source": [
    "dec['Brand'] = \"\"\n",
    "dec['Stage'] = ''\n",
    "dec['Month'] = ''\n",
    "dec['Deep'] = ''"
   ]
  },
  {
   "cell_type": "code",
   "execution_count": 183,
   "metadata": {},
   "outputs": [
    {
     "data": {
      "text/plain": [
       "Index(['Store', 'product_description', 'publish_time', 'rpc', 'review_date',\n",
       "       'review_rating', 'review_text', 'review_title', 'url', 'Brand', 'Stage',\n",
       "       'Month', 'Deep', 'Sub-store', 'ReviewID'],\n",
       "      dtype='object')"
      ]
     },
     "execution_count": 183,
     "metadata": {},
     "output_type": "execute_result"
    }
   ],
   "source": [
    "dec.columns"
   ]
  },
  {
   "cell_type": "code",
   "execution_count": 182,
   "metadata": {
    "collapsed": true
   },
   "outputs": [],
   "source": [
    "dec['Sub-store'] = ''\n",
    "dec['ReviewID'] = ''"
   ]
  },
  {
   "cell_type": "code",
   "execution_count": 203,
   "metadata": {},
   "outputs": [
    {
     "data": {
      "text/plain": [
       "dtype('O')"
      ]
     },
     "execution_count": 203,
     "metadata": {},
     "output_type": "execute_result"
    }
   ],
   "source": [
    "dec['review_date'].dtype"
   ]
  },
  {
   "cell_type": "code",
   "execution_count": 207,
   "metadata": {
    "collapsed": true
   },
   "outputs": [],
   "source": [
    "dec['review_date'] = pd.to_datetime(dec['review_date'])"
   ]
  },
  {
   "cell_type": "code",
   "execution_count": 211,
   "metadata": {},
   "outputs": [
    {
     "data": {
      "text/plain": [
       "43254"
      ]
     },
     "execution_count": 211,
     "metadata": {},
     "output_type": "execute_result"
    }
   ],
   "source": [
    "len(dec[dec['review_date'] < '2017-12-08'])"
   ]
  },
  {
   "cell_type": "code",
   "execution_count": 220,
   "metadata": {},
   "outputs": [
    {
     "data": {
      "text/plain": [
       "14019"
      ]
     },
     "execution_count": 220,
     "metadata": {},
     "output_type": "execute_result"
    }
   ],
   "source": [
    "dec_1w = dec[dec['review_date'] < '2017-12-08']\n",
    "dec_1w = dec_1w[dec_1w['review_date'] >= '2017-12-01']\n",
    "len(dec_1w)"
   ]
  },
  {
   "cell_type": "code",
   "execution_count": null,
   "metadata": {
    "collapsed": true
   },
   "outputs": [],
   "source": [
    "dec_1w['review_text'].replace"
   ]
  },
  {
   "cell_type": "code",
   "execution_count": 226,
   "metadata": {
    "collapsed": true
   },
   "outputs": [],
   "source": [
    "dec['review_text'].replace(to_replace=[',',';'], value = [' ',' '],inplace = True)"
   ]
  },
  {
   "cell_type": "code",
   "execution_count": 233,
   "metadata": {
    "collapsed": true
   },
   "outputs": [],
   "source": [
    "dec_1w[clms].to_csv('dec_1w.csv', index = False, encoding = 'utf-8', sep = ',')"
   ]
  },
  {
   "cell_type": "code",
   "execution_count": 235,
   "metadata": {
    "collapsed": true
   },
   "outputs": [],
   "source": [
    "ts = pd.read_excel('test_from_simin.xlsx')\n",
    "ts.to_csv('test_from_simin.csv', index= False, encoding='utf-8')"
   ]
  },
  {
   "cell_type": "markdown",
   "metadata": {},
   "source": [
    "### 爬虫练习: 爬去淘宝搜索页产品信息\n",
    "\n",
    "抓取的信息包括:\n",
    "\n",
    "'产品价格','产品名称','产品链接','产品图片链接','店铺名','店铺链接'"
   ]
  },
  {
   "cell_type": "code",
   "execution_count": 30,
   "metadata": {
    "collapsed": true
   },
   "outputs": [],
   "source": [
    "import requests\n",
    "import re\n",
    "import os\n",
    "#获得网页\n",
    "def getHTMLtext(url):\n",
    "    try:\n",
    "        r=requests.get(url, timeout=30)\n",
    "        r.raise_for_status()\n",
    "        r.encoding=r.apparent_encoding\n",
    "        return(r.text)\n",
    "    except:\n",
    "        return('')\n",
    "#分析处理网页，获得需要爬取的商品名称和价格\n",
    "def parsepage(ilt, html):\n",
    "    try:\n",
    "        #查找商品价格的正则表达式\n",
    "        plt=re.findall('\"view_price\":\"([\\d\\.]*)\"', html)\n",
    "        #查找对应商品名称的正则表达式\n",
    "        tlt=re.findall(re.compile('\"raw_title\":\"(.*?)\"'), html)\n",
    "        #查找产品链接\n",
    "        pl = re.findall(re.compile('\"detail_url\":\"(.*?)\"'),html)\n",
    "        #查找图片链接\n",
    "        picl = re.findall(re.compile('\"pic_url\":\"(.*?)\"'),html)\n",
    "        #查找店铺名称\n",
    "        sn =re.findall(re.compile('\"nick\":\"(.*?)\"'),html)\n",
    "        #查找店铺链接\n",
    "        sl = re.findall(re.compile('\"shopLink\":\"(.*?)\"'),html)\n",
    "        #存储商品名称和价格信息\n",
    "\n",
    "        #存储商品名称和价格信息\n",
    "        for i in range(len(plt)):\n",
    "            ilt.append([plt[i], tlt[i], pl[i], picl[i], sn[i], sl[i]])\n",
    "    except:\n",
    "        print('')\n",
    "#爬取得到的商品名称和价格写入csv文件\n",
    "def write_to_csv(ilt,fh):\n",
    "    tplt='{:4},{:8},{:16},{:16},{:16},{:16},{:16}'\n",
    "    fh.write(tplt.format('序号','价格','名称','产品链接','图片链接','店铺名','店铺链接')+'\\n')\n",
    "    count=0\n",
    "    for g in ilt:\n",
    "        count=count+1\n",
    "        fh.write(tplt.format(count, g[0], g[1], \n",
    "                             g[2].encode('latin-1').decode('unicode_escape'),\n",
    "                             g[3].encode('latin-1').decode('unicode_escape'), \n",
    "                             g[4],\n",
    "                             g[5].encode('latin-1').decode('unicode_escape'))+'\\n')\n",
    "\n",
    "def main():\n",
    "    goods=input(\"你要查找的商品名称: \") #搜寻的关键词\n",
    "    depth=int(input(\"你想抓取多少页的信息: \"))#爬取的网页数（翻页数）\n",
    "    start_url='https://s.taobao.com/search?q='+goods#初始网页\n",
    "    infoList=[]\n",
    "    for i in range(depth):\n",
    "        try:\n",
    "            url=start_url+'&s='+str(44*i)#实现翻页操作\n",
    "            print(\"正在获取第%d页的内容 ...\"%(i+1))\n",
    "            html=getHTMLtext(url)\n",
    "            print(\"查找第%d页的所需信息 ...\"%(i+1))\n",
    "            parsepage(infoList, html)\n",
    "        except:\n",
    "            continue\n",
    "    print(\"row number:%d\"%len(infoList))\n",
    "    fname = input(\"要保存的文件的信息(不用指定格式): \")+\".csv\"\n",
    "    print(fname)\n",
    "    fh = open(fname,'w')\n",
    "    print('写入文件中 ...')\n",
    "    write_to_csv(infoList, fh)\n",
    "    print('Done! 前往%s 查看!'%(os.getcwd()+\"\\\\\"+fname))"
   ]
  },
  {
   "cell_type": "code",
   "execution_count": 31,
   "metadata": {},
   "outputs": [
    {
     "name": "stdout",
     "output_type": "stream",
     "text": [
      "你要查找的商品名称: 嘉宝米粉\n",
      "你想抓取多少页的信息: 3\n",
      "正在获取第1页的内容 ...\n",
      "查找第1页的所需信息 ...\n",
      "正在获取第2页的内容 ...\n",
      "查找第2页的所需信息 ...\n",
      "正在获取第3页的内容 ...\n",
      "查找第3页的所需信息 ...\n",
      "row number:88\n",
      "要保存的文件的信息(不用指定格式): 嘉宝\n",
      "嘉宝.csv\n",
      "写入文件中 ...\n",
      "Done! 前往C:\\Users\\janney.zhang\\Desktop\\study\\python\\projects\\textblob\\textblob\\嘉宝.csv 查看!\n"
     ]
    }
   ],
   "source": [
    "main()\n"
   ]
  },
  {
   "cell_type": "markdown",
   "metadata": {},
   "source": [
    "### 抓取Tmall搜索页的产品信息\n",
    "\n",
    "和taobao的类似, 略有不同."
   ]
  },
  {
   "cell_type": "code",
   "execution_count": 36,
   "metadata": {
    "collapsed": true
   },
   "outputs": [],
   "source": [
    "import requests\n",
    "from bs4 import BeautifulSoup as BS\n"
   ]
  },
  {
   "cell_type": "code",
   "execution_count": 39,
   "metadata": {},
   "outputs": [
    {
     "name": "stdout",
     "output_type": "stream",
     "text": [
      "你要搜索的产品名:嘉宝米粉\n",
      "你想搜索多少页: 5\n"
     ]
    }
   ],
   "source": [
    "# 获取所需的 url链接列表\n",
    "base_url = 'https://list.tmall.com/search_product.htm?'\n",
    "product = input(\"你要搜索的产品名:\")\n",
    "pages = int(input(\"你想搜索多少页: \"))\n",
    "\n",
    "url = []\n",
    "\n",
    "for i in range(pages):\n",
    "    url.append(base_url + \"&s=%d\"%(i*60) + \"&q=%s\"%product)\n"
   ]
  },
  {
   "cell_type": "code",
   "execution_count": null,
   "metadata": {
    "collapsed": true
   },
   "outputs": [],
   "source": []
  }
 ],
 "metadata": {
  "kernelspec": {
   "display_name": "Python 3",
   "language": "python",
   "name": "python3"
  },
  "language_info": {
   "codemirror_mode": {
    "name": "ipython",
    "version": 3
   },
   "file_extension": ".py",
   "mimetype": "text/x-python",
   "name": "python",
   "nbconvert_exporter": "python",
   "pygments_lexer": "ipython3",
   "version": "3.6.3"
  }
 },
 "nbformat": 4,
 "nbformat_minor": 2
}
