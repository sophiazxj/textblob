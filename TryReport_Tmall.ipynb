{
 "cells": [
  {
   "cell_type": "code",
   "execution_count": 126,
   "metadata": {},
   "outputs": [],
   "source": [
    "import requests\n",
    "from bs4 import BeautifulSoup as bs\n",
    "import json\n",
    "import pandas as pd\n",
    "\n",
    "df = pd.DataFrame()\n",
    "url = 'https://rate.tmall.com/listTryReport.htm?itemId=545135822523&pageSize=75&currentPage=1&_ksTS=1519889611274_700&callback=jsonp701'\n",
    "\n",
    "content = requests.get(url).text\n",
    "content.find('\"tryReportList\"')\n",
    "content = eval(content[73:][17:][:-4])\n",
    "\n",
    "json_str = json.dumps(content)\n",
    "data = json.loads(json_str)\n",
    "for d in data:\n",
    "    df = df.append(pd.DataFrame(d))\n",
    "df['url'] = url    \n",
    "df.to_excel('TryReport.xlsx',sheet_name='TryReport',index= False)"
   ]
  },
  {
   "cell_type": "code",
   "execution_count": 124,
   "metadata": {},
   "outputs": [
    {
     "data": {
      "text/plain": [
       "20"
      ]
     },
     "execution_count": 124,
     "metadata": {},
     "output_type": "execute_result"
    }
   ],
   "source": [
    "len(data)"
   ]
  }
 ],
 "metadata": {
  "kernelspec": {
   "display_name": "Python 3",
   "language": "python",
   "name": "python3"
  },
  "language_info": {
   "codemirror_mode": {
    "name": "ipython",
    "version": 3
   },
   "file_extension": ".py",
   "mimetype": "text/x-python",
   "name": "python",
   "nbconvert_exporter": "python",
   "pygments_lexer": "ipython3",
   "version": "3.6.3"
  }
 },
 "nbformat": 4,
 "nbformat_minor": 2
}
